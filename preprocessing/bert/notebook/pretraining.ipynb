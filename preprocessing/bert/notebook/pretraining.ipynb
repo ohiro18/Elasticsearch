# BERT pretraining on Japanese wiki

This notebook is assumed to be executed on Colaboratory notebook with TPU.

[![Open In Colab](https://colab.research.google.com/assets/colab-badge.svg)](https://colab.research.google.com/drive/14Ky8w5NodVyfk7tm13u6vdaGPl5qvPxL)
