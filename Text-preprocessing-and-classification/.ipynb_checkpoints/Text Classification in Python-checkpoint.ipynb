{
 "cells": [
  {
   "cell_type": "markdown",
   "metadata": {},
   "source": [
    "## Text Preprocessing and Classification in Python"
   ]
  },
  {
   "cell_type": "markdown",
   "metadata": {
    "toc": true
   },
   "source": [
    "<h1>Table of Contents<span class=\"tocSkip\"></span></h1>\n",
    "<div class=\"toc\"><ul class=\"toc-item\"><li><span><a href=\"#Text-Preprocessing-and-Classification-in-Python\" data-toc-modified-id=\"Text-Preprocessing-and-Classification-in-Python-1\"><span class=\"toc-item-num\">1&nbsp;&nbsp;</span>Text Preprocessing and Classification in Python</a></span></li><li><span><a href=\"#Importing-Libraries\" data-toc-modified-id=\"Importing-Libraries-2\"><span class=\"toc-item-num\">2&nbsp;&nbsp;</span>Importing Libraries</a></span></li><li><span><a href=\"#Natural-Language-Processing-with-nltk\" data-toc-modified-id=\"Natural-Language-Processing-with-nltk-3\"><span class=\"toc-item-num\">3&nbsp;&nbsp;</span>Natural Language Processing with nltk</a></span></li><li><span><a href=\"#Download-and-Inspect-the-Movie-Reviews-Dataset\" data-toc-modified-id=\"Download-and-Inspect-the-Movie-Reviews-Dataset-4\"><span class=\"toc-item-num\">4&nbsp;&nbsp;</span>Download and Inspect the Movie Reviews Dataset</a></span></li><li><span><a href=\"#Text-Preprocessing\" data-toc-modified-id=\"Text-Preprocessing-5\"><span class=\"toc-item-num\">5&nbsp;&nbsp;</span>Text Preprocessing</a></span><ul class=\"toc-item\"><li><span><a href=\"#Lower-casing\" data-toc-modified-id=\"Lower-casing-5.1\"><span class=\"toc-item-num\">5.1&nbsp;&nbsp;</span>Lower casing</a></span></li><li><span><a href=\"#Punctuation-removal\" data-toc-modified-id=\"Punctuation-removal-5.2\"><span class=\"toc-item-num\">5.2&nbsp;&nbsp;</span>Punctuation removal</a></span></li><li><span><a href=\"#Identifying-and-Remove-Stop-Words\" data-toc-modified-id=\"Identifying-and-Remove-Stop-Words-5.3\"><span class=\"toc-item-num\">5.3&nbsp;&nbsp;</span>Identifying and Remove Stop Words</a></span></li><li><span><a href=\"#Spelling-correction\" data-toc-modified-id=\"Spelling-correction-5.4\"><span class=\"toc-item-num\">5.4&nbsp;&nbsp;</span>Spelling correction</a></span></li><li><span><a href=\"#Tokenize-Text-in-Words\" data-toc-modified-id=\"Tokenize-Text-in-Words-5.5\"><span class=\"toc-item-num\">5.5&nbsp;&nbsp;</span>Tokenize Text in Words</a></span></li><li><span><a href=\"#NLTK-Word-Stemming\" data-toc-modified-id=\"NLTK-Word-Stemming-5.6\"><span class=\"toc-item-num\">5.6&nbsp;&nbsp;</span>NLTK Word Stemming</a></span></li><li><span><a href=\"#Lemmatizing-Words-Using-WordNet\" data-toc-modified-id=\"Lemmatizing-Words-Using-WordNet-5.7\"><span class=\"toc-item-num\">5.7&nbsp;&nbsp;</span>Lemmatizing Words Using WordNet</a></span></li><li><span><a href=\"#Stemming-and-Lemmatization-Difference\" data-toc-modified-id=\"Stemming-and-Lemmatization-Difference-5.8\"><span class=\"toc-item-num\">5.8&nbsp;&nbsp;</span>Stemming and Lemmatization Difference</a></span></li><li><span><a href=\"#Plotting-Frequencies-of-Words\" data-toc-modified-id=\"Plotting-Frequencies-of-Words-5.9\"><span class=\"toc-item-num\">5.9&nbsp;&nbsp;</span>Plotting Frequencies of Words</a></span></li><li><span><a href=\"#Removing-frequent-unimportant-words\" data-toc-modified-id=\"Removing-frequent-unimportant-words-5.10\"><span class=\"toc-item-num\">5.10&nbsp;&nbsp;</span>Removing frequent unimportant words</a></span></li></ul></li><li><span><a href=\"#Advanced-processing-and-Modelling:\" data-toc-modified-id=\"Advanced-processing-and-Modelling:-6\"><span class=\"toc-item-num\">6&nbsp;&nbsp;</span>Advanced processing and Modelling:</a></span><ul class=\"toc-item\"><li><span><a href=\"#Build-a-bag-of-words-Naive-Bayes-model\" data-toc-modified-id=\"Build-a-bag-of-words-Naive-Bayes-model-6.1\"><span class=\"toc-item-num\">6.1&nbsp;&nbsp;</span>Build a bag-of-words Naive Bayes model</a></span></li><li><span><a href=\"#n-grams\" data-toc-modified-id=\"n-grams-6.2\"><span class=\"toc-item-num\">6.2&nbsp;&nbsp;</span>n-grams</a></span></li><li><span><a href=\"#Term-Frequency-and-Inverse-Document-Frequency\" data-toc-modified-id=\"Term-Frequency-and-Inverse-Document-Frequency-6.3\"><span class=\"toc-item-num\">6.3&nbsp;&nbsp;</span>Term Frequency and Inverse Document Frequency</a></span></li><li><span><a href=\"#Term-Frequency-Inverse-Document-Frequency-(TF-IDF)---Random-Forest\" data-toc-modified-id=\"Term-Frequency-Inverse-Document-Frequency-(TF-IDF)---Random-Forest-6.4\"><span class=\"toc-item-num\">6.4&nbsp;&nbsp;</span>Term Frequency-Inverse Document Frequency (TF-IDF) - Random Forest</a></span></li><li><span><a href=\"#NLTK-VADER-Sentiment-Intensity-Analyzer:\" data-toc-modified-id=\"NLTK-VADER-Sentiment-Intensity-Analyzer:-6.5\"><span class=\"toc-item-num\">6.5&nbsp;&nbsp;</span>NLTK VADER Sentiment Intensity Analyzer:</a></span></li><li><span><a href=\"#Topic-Modelling-using-Latent-Dirichlet-Allocation\" data-toc-modified-id=\"Topic-Modelling-using-Latent-Dirichlet-Allocation-6.6\"><span class=\"toc-item-num\">6.6&nbsp;&nbsp;</span>Topic Modelling using Latent Dirichlet Allocation</a></span></li><li><span><a href=\"#Word-Embedding---word-vectors\" data-toc-modified-id=\"Word-Embedding---word-vectors-6.7\"><span class=\"toc-item-num\">6.7&nbsp;&nbsp;</span>Word Embedding - word vectors</a></span></li></ul></li><li><span><a href=\"#Adding-other-text-features:\" data-toc-modified-id=\"Adding-other-text-features:-7\"><span class=\"toc-item-num\">7&nbsp;&nbsp;</span>Adding other text features:</a></span></li><li><span><a href=\"#Improving-Text-Classification-Models\" data-toc-modified-id=\"Improving-Text-Classification-Models-8\"><span class=\"toc-item-num\">8&nbsp;&nbsp;</span>Improving Text Classification Models</a></span></li><li><span><a href=\"#Solve-a-problem!\" data-toc-modified-id=\"Solve-a-problem!-9\"><span class=\"toc-item-num\">9&nbsp;&nbsp;</span>Solve a problem!</a></span></li></ul></div>"
   ]
  },
  {
   "cell_type": "markdown",
   "metadata": {},
   "source": [
    "## Importing Libraries"
   ]
  },
  {
   "cell_type": "code",
   "execution_count": 1,
   "metadata": {
    "scrolled": true
   },
   "outputs": [
    {
     "name": "stderr",
     "output_type": "stream",
     "text": [
      "C:\\Users\\save advait\\Documents\\Anaconda\\lib\\site-packages\\nltk\\twitter\\__init__.py:20: UserWarning: The twython library has not been installed. Some functionality from the twitter package will not be available.\n",
      "  warnings.warn(\"The twython library has not been installed. \"\n",
      "C:\\Users\\save advait\\Documents\\Anaconda\\lib\\site-packages\\gensim\\utils.py:1197: UserWarning: detected Windows; aliasing chunkize to chunkize_serial\n",
      "  warnings.warn(\"detected Windows; aliasing chunkize to chunkize_serial\")\n"
     ]
    }
   ],
   "source": [
    "import nltk\n",
    "import pandas as pd\n",
    "import string\n",
    "from nltk.corpus import stopwords\n",
    "from nltk.tokenize import word_tokenize, sent_tokenize\n",
    "from nltk.stem import PorterStemmer, WordNetLemmatizer\n",
    "from collections import Counter\n",
    "%matplotlib inline\n",
    "import matplotlib.pyplot as plt\n",
    "from sklearn.feature_extraction.text import CountVectorizer, TfidfVectorizer\n",
    "import numpy as np\n",
    "from sklearn.metrics import (accuracy_score, roc_auc_score, confusion_matrix, roc_curve, auc, \n",
    "                             mean_squared_error, log_loss, precision_recall_curve, classification_report, \n",
    "                             precision_recall_fscore_support)\n",
    "from sklearn import preprocessing\n",
    "from sklearn.model_selection import train_test_split, GridSearchCV, validation_curve\n",
    "from sklearn.ensemble import RandomForestClassifier\n",
    "from sklearn.naive_bayes import MultinomialNB\n",
    "import scikitplot as skplt\n",
    "import seaborn as sns\n",
    "from nltk import tokenize\n",
    "from nltk.corpus import subjectivity\n",
    "from nltk.sentiment import SentimentAnalyzer, SentimentIntensityAnalyzer\n",
    "from nltk.sentiment.util import *\n",
    "from pprint import pprint\n",
    "\n",
    "# Gensim\n",
    "import gensim\n",
    "import gensim.corpora as corpora\n",
    "from gensim.utils import simple_preprocess\n",
    "from gensim.models import CoherenceModel\n",
    "from gensim.models import word2vec\n",
    "\n",
    "import warnings\n",
    "warnings.filterwarnings(\"ignore\")"
   ]
  },
  {
   "cell_type": "markdown",
   "metadata": {},
   "source": [
    "## Natural Language Processing with nltk\n",
    "\n",
    "- nltk is the most popular Python package for Natural Language processing, it provides algorithms for __importing, cleaning, pre-processing text data__ in human language and then __apply computational linguistics algorithms like sentiment analysis__."
   ]
  },
  {
   "cell_type": "markdown",
   "metadata": {},
   "source": [
    "## Download and Inspect the Movie Reviews Dataset\n",
    "- It includes many datasets in the nltk.corpus package\n",
    "- We can download the __movie_reviews__ package using the nltk.download function:"
   ]
  },
  {
   "cell_type": "code",
   "execution_count": 2,
   "metadata": {},
   "outputs": [
    {
     "name": "stdout",
     "output_type": "stream",
     "text": [
      "[nltk_data] Downloading package movie_reviews to C:\\Users\\save\n",
      "[nltk_data]     advait\\AppData\\Roaming\\nltk_data...\n",
      "[nltk_data]   Package movie_reviews is already up-to-date!\n"
     ]
    },
    {
     "data": {
      "text/plain": [
       "True"
      ]
     },
     "execution_count": 2,
     "metadata": {},
     "output_type": "execute_result"
    }
   ],
   "source": [
    "nltk.download(\"movie_reviews\")"
   ]
  },
  {
   "cell_type": "code",
   "execution_count": 3,
   "metadata": {},
   "outputs": [],
   "source": [
    "from nltk.corpus import movie_reviews"
   ]
  },
  {
   "cell_type": "code",
   "execution_count": 4,
   "metadata": {},
   "outputs": [
    {
     "data": {
      "text/plain": [
       "2000"
      ]
     },
     "execution_count": 4,
     "metadata": {},
     "output_type": "execute_result"
    }
   ],
   "source": [
    "len(movie_reviews.fileids())"
   ]
  },
  {
   "cell_type": "code",
   "execution_count": 5,
   "metadata": {},
   "outputs": [
    {
     "data": {
      "text/plain": [
       "['neg/cv000_29416.txt',\n",
       " 'neg/cv001_19502.txt',\n",
       " 'neg/cv002_17424.txt',\n",
       " 'neg/cv003_12683.txt',\n",
       " 'neg/cv004_12641.txt']"
      ]
     },
     "execution_count": 5,
     "metadata": {},
     "output_type": "execute_result"
    }
   ],
   "source": [
    "movie_reviews.fileids()[:5]"
   ]
  },
  {
   "cell_type": "code",
   "execution_count": 6,
   "metadata": {},
   "outputs": [
    {
     "data": {
      "text/plain": [
       "['pos/cv995_21821.txt',\n",
       " 'pos/cv996_11592.txt',\n",
       " 'pos/cv997_5046.txt',\n",
       " 'pos/cv998_14111.txt',\n",
       " 'pos/cv999_13106.txt']"
      ]
     },
     "execution_count": 6,
     "metadata": {},
     "output_type": "execute_result"
    }
   ],
   "source": [
    "movie_reviews.fileids()[-5:]"
   ]
  },
  {
   "cell_type": "markdown",
   "metadata": {},
   "source": [
    "- __fileids__ can also filter the available files based on their category, which is the name of the subfolders they are located in. Therefore we can have lists of positive and negative reviews separately."
   ]
  },
  {
   "cell_type": "code",
   "execution_count": 7,
   "metadata": {},
   "outputs": [],
   "source": [
    "negative_fileids = movie_reviews.fileids('neg')\n",
    "positive_fileids = movie_reviews.fileids('pos')"
   ]
  },
  {
   "cell_type": "code",
   "execution_count": 8,
   "metadata": {},
   "outputs": [
    {
     "data": {
      "text/plain": [
       "(1000, 1000)"
      ]
     },
     "execution_count": 8,
     "metadata": {},
     "output_type": "execute_result"
    }
   ],
   "source": [
    "len(negative_fileids), len(positive_fileids)"
   ]
  },
  {
   "cell_type": "markdown",
   "metadata": {},
   "source": [
    "- We can inspect one of the reviews using the raw method of movie_reviews, each file is split into sentences, the curators of this dataset also removed from each review from any direct mention of the rating of the movie."
   ]
  },
  {
   "cell_type": "code",
   "execution_count": 9,
   "metadata": {
    "scrolled": true
   },
   "outputs": [
    {
     "name": "stdout",
     "output_type": "stream",
     "text": [
      "by phil curtolo mel gibson ( braveheart ) gave a gripping performance as the father of a young kidnapped boy in ron howard's ransom . \n",
      "gibson plays tom mullen , a wealthy business tycoon whose past actions are coming back to haunt him as a deranged psychopath , played by gary sinise ( forrest gump ) , and his band of low-life thugs kidnap his only son for $2 million . \n",
      "tom and his wife , kate , played by rene russo ( tin cup ) were instructed not to inform the police , but they contacted the fbi . \n",
      "minutes later , an elite team of agents led by delroy lindo ( broken arrow ) are in tom's house and wiring every phone . \n",
      "the plot sounds average , just like most other kidnap movies that you've already seen , and it was nothing more than that . \n",
      "that is until about half-way through the movie . \n",
      "suddenly , tom goes to the fox 5 news room and makes a live broadcast saying , \" this is your ransom . \n",
      "but this is as close as you will ever get to it . \n",
      "instead , i am offering this money as a reward on your head , dead or alive . \" \n",
      "at this point , the plot thickened , and the unusually slow start of the film turned into a suspense-filled action film with great stunts . \n",
      "the last half of the film is very well done . \n",
      "another thing that carries this film are the superb performances by gibson and sinise , as they collide in a game of wits over their cellular phones for most of the movie . \n",
      "owen gleiberman of entertainment weekly commented on the subject : \" it makes you wonder what kidnappers did before cell phones . \" \n",
      "before this movie , sinise played mostly \" good guys , \" first in of mice & men , then in forrest gump , and most recently , in apollo 13 . \n",
      "but he was surprisingly devilish and cold in his portrayal of a cop-gone-bad . \n",
      "gibson , of course , was just being gibson , in an oscar-worthy performance . \n",
      "although most of the scenes were quite predictable , ransom is a very entertaining and suspenseful film . \n",
      " , \n",
      "\n"
     ]
    }
   ],
   "source": [
    "print(movie_reviews.raw(fileids=positive_fileids[20]))"
   ]
  },
  {
   "cell_type": "markdown",
   "metadata": {},
   "source": [
    "## Text Preprocessing\n",
    "- Pre-processing of the text data in order to extract better features from clean data\n",
    "- Text cleaning is task specific\n",
    " - Case, punctuations, markup, languages, hyphens, section markers, spellings etc. all need to be handled based on context"
   ]
  },
  {
   "cell_type": "code",
   "execution_count": 10,
   "metadata": {},
   "outputs": [
    {
     "data": {
      "text/plain": [
       "'neg/cv002_17424.txt'"
      ]
     },
     "execution_count": 10,
     "metadata": {},
     "output_type": "execute_result"
    }
   ],
   "source": [
    "negative_fileids[2]"
   ]
  },
  {
   "cell_type": "code",
   "execution_count": 11,
   "metadata": {},
   "outputs": [],
   "source": [
    "negative_features = pd.DataFrame(\n",
    "    {'review':movie_reviews.raw(fileids=[f]),'label': 'neg'} for f in negative_fileids\n",
    ")"
   ]
  },
  {
   "cell_type": "code",
   "execution_count": 12,
   "metadata": {},
   "outputs": [],
   "source": [
    "positive_features = pd.DataFrame(\n",
    "    {'review':movie_reviews.raw(fileids=[f]),'label': 'pos'} for f in positive_fileids\n",
    ")"
   ]
  },
  {
   "cell_type": "code",
   "execution_count": 13,
   "metadata": {},
   "outputs": [
    {
     "data": {
      "text/html": [
       "<div>\n",
       "<style scoped>\n",
       "    .dataframe tbody tr th:only-of-type {\n",
       "        vertical-align: middle;\n",
       "    }\n",
       "\n",
       "    .dataframe tbody tr th {\n",
       "        vertical-align: top;\n",
       "    }\n",
       "\n",
       "    .dataframe thead th {\n",
       "        text-align: right;\n",
       "    }\n",
       "</style>\n",
       "<table border=\"1\" class=\"dataframe\">\n",
       "  <thead>\n",
       "    <tr style=\"text-align: right;\">\n",
       "      <th></th>\n",
       "      <th>label</th>\n",
       "      <th>review</th>\n",
       "    </tr>\n",
       "  </thead>\n",
       "  <tbody>\n",
       "    <tr>\n",
       "      <th>0</th>\n",
       "      <td>pos</td>\n",
       "      <td>films adapted from comic books have had plenty...</td>\n",
       "    </tr>\n",
       "    <tr>\n",
       "      <th>1</th>\n",
       "      <td>pos</td>\n",
       "      <td>every now and then a movie comes along from a ...</td>\n",
       "    </tr>\n",
       "    <tr>\n",
       "      <th>2</th>\n",
       "      <td>pos</td>\n",
       "      <td>you've got mail works alot better than it dese...</td>\n",
       "    </tr>\n",
       "    <tr>\n",
       "      <th>3</th>\n",
       "      <td>pos</td>\n",
       "      <td>\" jaws \" is a rare film that grabs your atten...</td>\n",
       "    </tr>\n",
       "    <tr>\n",
       "      <th>4</th>\n",
       "      <td>pos</td>\n",
       "      <td>moviemaking is a lot like being the general ma...</td>\n",
       "    </tr>\n",
       "  </tbody>\n",
       "</table>\n",
       "</div>"
      ],
      "text/plain": [
       "  label                                             review\n",
       "0   pos  films adapted from comic books have had plenty...\n",
       "1   pos  every now and then a movie comes along from a ...\n",
       "2   pos  you've got mail works alot better than it dese...\n",
       "3   pos   \" jaws \" is a rare film that grabs your atten...\n",
       "4   pos  moviemaking is a lot like being the general ma..."
      ]
     },
     "execution_count": 13,
     "metadata": {},
     "output_type": "execute_result"
    }
   ],
   "source": [
    "positive_features.head()"
   ]
  },
  {
   "cell_type": "markdown",
   "metadata": {},
   "source": [
    "### Lower casing"
   ]
  },
  {
   "cell_type": "code",
   "execution_count": 14,
   "metadata": {},
   "outputs": [],
   "source": [
    "positive_features.review = positive_features.review.apply(lambda x:x.lower())"
   ]
  },
  {
   "cell_type": "code",
   "execution_count": 15,
   "metadata": {},
   "outputs": [],
   "source": [
    "negative_features.review = negative_features.review.apply(lambda x:x.lower())"
   ]
  },
  {
   "cell_type": "markdown",
   "metadata": {},
   "source": [
    "### Punctuation removal"
   ]
  },
  {
   "cell_type": "code",
   "execution_count": 16,
   "metadata": {},
   "outputs": [
    {
     "data": {
      "text/plain": [
       "\"you've got mail works alot better than it deserves to . \\nin order to make the film a success , all they had to do was cast two extremely popular and attractive stars , have them share the screen for about two hours and then collect the profits . \\nno real acting was involved and there is not an original or inventive bone in it's body ( it's basically a complete re-shoot of the shop around the corner , only adding a few modern twists ) . \\nessentially , it goes against and defies all concepts of good contemporary filmmaking . \\nit's overly sentimental and at times terribly mushy , not to mention very manipulative . \\nbut oh , how enjoyable that manipulation is . \\nbut there must be something other than the casting and manipulation that makes the movie work as well as it does , because i absolutely hated the previous ryan/hanks teaming , sleepless in seattle . \\nit couldn't have been the directing , because both films were helmed by the same woman . \\ni haven't quite yet figured out what i liked so much about you've got mail , but then again , is that really important ? \\nif you like something so much , why even question it ? \\nagain , the storyline is as cliched as they come . \\ntom hanks plays joe fox , the insanely likeable owner of a discount book chain and meg ryan plays kathleen kelley , the even more insanely likeable proprietor of a family-run children's book shop called , in a nice homage , the shop around the corner . \\nfox and kelley soon become bitter rivals because the new fox books store is opening up right across the block from the small business . \\nlittle do they know , they are already in love with each other over the internet , only neither party knows the other person's true identity . \\nthe rest of the story isn't important because all it does is serve as a mere backdrop for the two stars to share the screen . \\nsure , there are some mildly interesting subplots , but they all fail in comparison to the utter cuteness of the main relationship . \\nall of this , of course , leads up to the predictable climax . \\nbut as foreseeable as the ending is , it's so damn cute and well-done that i doubt any movie in the entire year contains a scene the evokes as much pure joy as this part does . \\nwhen ryan discovers the true identity of her online love , i was filled with such , for lack of a better word , happiness that for the first time all year , i actually left the theater smiling . \\n\""
      ]
     },
     "execution_count": 16,
     "metadata": {},
     "output_type": "execute_result"
    }
   ],
   "source": [
    "positive_features.review[2]"
   ]
  },
  {
   "cell_type": "code",
   "execution_count": 17,
   "metadata": {},
   "outputs": [],
   "source": [
    "punctuations = list(string.punctuation)\n",
    "positive_features.review = positive_features.review.apply(lambda x: \" \".join(x for x in x.split() if x not in punctuations))\n",
    "negative_features.review = negative_features.review.apply(lambda x: \" \".join(x for x in x.split() if x not in punctuations))"
   ]
  },
  {
   "cell_type": "code",
   "execution_count": 18,
   "metadata": {},
   "outputs": [
    {
     "data": {
      "text/plain": [
       "\"you've got mail works alot better than it deserves to in order to make the film a success all they had to do was cast two extremely popular and attractive stars have them share the screen for about two hours and then collect the profits no real acting was involved and there is not an original or inventive bone in it's body it's basically a complete re-shoot of the shop around the corner only adding a few modern twists essentially it goes against and defies all concepts of good contemporary filmmaking it's overly sentimental and at times terribly mushy not to mention very manipulative but oh how enjoyable that manipulation is but there must be something other than the casting and manipulation that makes the movie work as well as it does because i absolutely hated the previous ryan/hanks teaming sleepless in seattle it couldn't have been the directing because both films were helmed by the same woman i haven't quite yet figured out what i liked so much about you've got mail but then again is that really important if you like something so much why even question it again the storyline is as cliched as they come tom hanks plays joe fox the insanely likeable owner of a discount book chain and meg ryan plays kathleen kelley the even more insanely likeable proprietor of a family-run children's book shop called in a nice homage the shop around the corner fox and kelley soon become bitter rivals because the new fox books store is opening up right across the block from the small business little do they know they are already in love with each other over the internet only neither party knows the other person's true identity the rest of the story isn't important because all it does is serve as a mere backdrop for the two stars to share the screen sure there are some mildly interesting subplots but they all fail in comparison to the utter cuteness of the main relationship all of this of course leads up to the predictable climax but as foreseeable as the ending is it's so damn cute and well-done that i doubt any movie in the entire year contains a scene the evokes as much pure joy as this part does when ryan discovers the true identity of her online love i was filled with such for lack of a better word happiness that for the first time all year i actually left the theater smiling\""
      ]
     },
     "execution_count": 18,
     "metadata": {},
     "output_type": "execute_result"
    }
   ],
   "source": [
    "positive_features.review[2]"
   ]
  },
  {
   "cell_type": "markdown",
   "metadata": {},
   "source": [
    "### Identifying and Remove Stop Words"
   ]
  },
  {
   "cell_type": "code",
   "execution_count": 19,
   "metadata": {},
   "outputs": [
    {
     "name": "stdout",
     "output_type": "stream",
     "text": [
      "[nltk_data] Downloading package stopwords to C:\\Users\\save\n",
      "[nltk_data]     advait\\AppData\\Roaming\\nltk_data...\n",
      "[nltk_data]   Package stopwords is already up-to-date!\n"
     ]
    },
    {
     "data": {
      "text/plain": [
       "True"
      ]
     },
     "execution_count": 19,
     "metadata": {},
     "output_type": "execute_result"
    }
   ],
   "source": [
    "nltk.download('stopwords')"
   ]
  },
  {
   "cell_type": "code",
   "execution_count": 20,
   "metadata": {},
   "outputs": [],
   "source": [
    "stop = stopwords.words('english')\n",
    "positive_features.review = positive_features.review.apply(lambda x: \" \".join(x for x in x.split() if x not in stop))\n",
    "negative_features.review = negative_features.review.apply(lambda x: \" \".join(x for x in x.split() if x not in stop))"
   ]
  },
  {
   "cell_type": "code",
   "execution_count": 21,
   "metadata": {},
   "outputs": [
    {
     "data": {
      "text/plain": [
       "\"got mail works alot better deserves order make film success cast two extremely popular attractive stars share screen two hours collect profits real acting involved original inventive bone body basically complete re-shoot shop around corner adding modern twists essentially goes defies concepts good contemporary filmmaking overly sentimental times terribly mushy mention manipulative oh enjoyable manipulation must something casting manipulation makes movie work well absolutely hated previous ryan/hanks teaming sleepless seattle directing films helmed woman quite yet figured liked much got mail really important like something much even question storyline cliched come tom hanks plays joe fox insanely likeable owner discount book chain meg ryan plays kathleen kelley even insanely likeable proprietor family-run children's book shop called nice homage shop around corner fox kelley soon become bitter rivals new fox books store opening right across block small business little know already love internet neither party knows person's true identity rest story important serve mere backdrop two stars share screen sure mildly interesting subplots fail comparison utter cuteness main relationship course leads predictable climax foreseeable ending damn cute well-done doubt movie entire year contains scene evokes much pure joy part ryan discovers true identity online love filled lack better word happiness first time year actually left theater smiling\""
      ]
     },
     "execution_count": 21,
     "metadata": {},
     "output_type": "execute_result"
    }
   ],
   "source": [
    "positive_features.review[2]"
   ]
  },
  {
   "cell_type": "markdown",
   "metadata": {},
   "source": [
    "### Spelling correction"
   ]
  },
  {
   "cell_type": "code",
   "execution_count": null,
   "metadata": {},
   "outputs": [],
   "source": []
  },
  {
   "cell_type": "markdown",
   "metadata": {},
   "source": [
    "### Tokenize Text in Words\n",
    "- Tokenizing text is important since text can’t be processed without tokenization. Tokenization process means splitting bigger parts to small parts.\n",
    "- You can tokenize paragraphs to sentences and tokenize sentences to words according to your needs. \n",
    "- NLTK is shipped with sentence tokenizer and word tokenizer.\n",
    "- Non english text can also be tokenized by specifying the language"
   ]
  },
  {
   "cell_type": "code",
   "execution_count": 22,
   "metadata": {},
   "outputs": [
    {
     "name": "stdout",
     "output_type": "stream",
     "text": [
      "[nltk_data] Downloading package punkt to C:\\Users\\save\n",
      "[nltk_data]     advait\\AppData\\Roaming\\nltk_data...\n",
      "[nltk_data]   Package punkt is already up-to-date!\n"
     ]
    },
    {
     "data": {
      "text/plain": [
       "True"
      ]
     },
     "execution_count": 22,
     "metadata": {},
     "output_type": "execute_result"
    }
   ],
   "source": [
    "nltk.download('punkt')"
   ]
  },
  {
   "cell_type": "markdown",
   "metadata": {},
   "source": [
    "__Sentence Tokenizing:__"
   ]
  },
  {
   "cell_type": "code",
   "execution_count": 23,
   "metadata": {},
   "outputs": [
    {
     "data": {
      "text/plain": [
       "[\"got mail works alot better deserves order make film success cast two extremely popular attractive stars share screen two hours collect profits real acting involved original inventive bone body basically complete re-shoot shop around corner adding modern twists essentially goes defies concepts good contemporary filmmaking overly sentimental times terribly mushy mention manipulative oh enjoyable manipulation must something casting manipulation makes movie work well absolutely hated previous ryan/hanks teaming sleepless seattle directing films helmed woman quite yet figured liked much got mail really important like something much even question storyline cliched come tom hanks plays joe fox insanely likeable owner discount book chain meg ryan plays kathleen kelley even insanely likeable proprietor family-run children's book shop called nice homage shop around corner fox kelley soon become bitter rivals new fox books store opening right across block small business little know already love internet neither party knows person's true identity rest story important serve mere backdrop two stars share screen sure mildly interesting subplots fail comparison utter cuteness main relationship course leads predictable climax foreseeable ending damn cute well-done doubt movie entire year contains scene evokes much pure joy part ryan discovers true identity online love filled lack better word happiness first time year actually left theater smiling\"]"
      ]
     },
     "execution_count": 23,
     "metadata": {},
     "output_type": "execute_result"
    }
   ],
   "source": [
    "sent_tokenize(positive_features.review[2])"
   ]
  },
  {
   "cell_type": "markdown",
   "metadata": {},
   "source": [
    "__Word Tokenizing:__"
   ]
  },
  {
   "cell_type": "code",
   "execution_count": 24,
   "metadata": {},
   "outputs": [],
   "source": [
    "positive_features['review_tokenized'] = positive_features.review.apply(lambda x: word_tokenize(x))\n",
    "negative_features['review_tokenized'] = negative_features.review.apply(lambda x: word_tokenize(x))"
   ]
  },
  {
   "cell_type": "code",
   "execution_count": 25,
   "metadata": {},
   "outputs": [
    {
     "data": {
      "text/plain": [
       "0    [films, adapted, comic, books, plenty, success...\n",
       "1    [every, movie, comes, along, suspect, studio, ...\n",
       "2    [got, mail, works, alot, better, deserves, ord...\n",
       "3    [jaws, rare, film, grabs, attention, shows, si...\n",
       "4    [moviemaking, lot, like, general, manager, nfl...\n",
       "Name: review_tokenized, dtype: object"
      ]
     },
     "execution_count": 25,
     "metadata": {},
     "output_type": "execute_result"
    }
   ],
   "source": [
    "positive_features['review_tokenized'].head()"
   ]
  },
  {
   "cell_type": "markdown",
   "metadata": {},
   "source": [
    "### NLTK Word Stemming\n",
    "- Word stemming means removing affixes from words and return the root word. Ex: The stem of the word working => work.\n",
    "- Search engines use this technique when indexing pages, so many people write different versions for the same word and all of them are stemmed to the root word.\n",
    "- There are many algorithms for stemming, but the most used algorithm is Porter stemming algorithm.\n",
    "- NLTK has a class called PorterStemmer which uses Porter stemming algorithm."
   ]
  },
  {
   "cell_type": "code",
   "execution_count": 26,
   "metadata": {},
   "outputs": [
    {
     "name": "stdout",
     "output_type": "stream",
     "text": [
      "work\n"
     ]
    }
   ],
   "source": [
    "stemmer = PorterStemmer()\n",
    "print(stemmer.stem('working'))"
   ]
  },
  {
   "cell_type": "code",
   "execution_count": 27,
   "metadata": {},
   "outputs": [],
   "source": [
    "positive_features['review_stemmed'] = positive_features.review_tokenized.apply(lambda x: [stemmer.stem(word) for word in x])\n",
    "negative_features['review_stemmed'] = negative_features.review_tokenized.apply(lambda x: [stemmer.stem(word) for word in x])"
   ]
  },
  {
   "cell_type": "code",
   "execution_count": 28,
   "metadata": {},
   "outputs": [
    {
     "data": {
      "text/plain": [
       "0    [films, adapted, comic, books, plenty, success...\n",
       "1    [every, movie, comes, along, suspect, studio, ...\n",
       "2    [got, mail, works, alot, better, deserves, ord...\n",
       "3    [jaws, rare, film, grabs, attention, shows, si...\n",
       "4    [moviemaking, lot, like, general, manager, nfl...\n",
       "Name: review_tokenized, dtype: object"
      ]
     },
     "execution_count": 28,
     "metadata": {},
     "output_type": "execute_result"
    }
   ],
   "source": [
    "positive_features.review_tokenized.head()"
   ]
  },
  {
   "cell_type": "code",
   "execution_count": 29,
   "metadata": {},
   "outputs": [
    {
     "data": {
      "text/plain": [
       "0    [film, adapt, comic, book, plenti, success, wh...\n",
       "1    [everi, movi, come, along, suspect, studio, ev...\n",
       "2    [got, mail, work, alot, better, deserv, order,...\n",
       "3    [jaw, rare, film, grab, attent, show, singl, i...\n",
       "4    [moviemak, lot, like, gener, manag, nfl, team,...\n",
       "Name: review_stemmed, dtype: object"
      ]
     },
     "execution_count": 29,
     "metadata": {},
     "output_type": "execute_result"
    }
   ],
   "source": [
    "positive_features.review_stemmed.head()"
   ]
  },
  {
   "cell_type": "markdown",
   "metadata": {},
   "source": [
    "### Lemmatizing Words Using WordNet\n",
    "- Lemmatization is a more effective option than stemming because it converts the word into its root word, rather than just stripping the suffices. \n",
    "- It makes use of the vocabulary and does a morphological analysis to obtain the root word. Therefore, we usually prefer using lemmatization over stemming.\n",
    "- Example: reduce words such as “am”, “are”, and “is” to a common form such as “be”"
   ]
  },
  {
   "cell_type": "code",
   "execution_count": 30,
   "metadata": {},
   "outputs": [
    {
     "name": "stdout",
     "output_type": "stream",
     "text": [
      "[nltk_data] Downloading package wordnet to C:\\Users\\save\n",
      "[nltk_data]     advait\\AppData\\Roaming\\nltk_data...\n",
      "[nltk_data]   Package wordnet is already up-to-date!\n"
     ]
    },
    {
     "data": {
      "text/plain": [
       "True"
      ]
     },
     "execution_count": 30,
     "metadata": {},
     "output_type": "execute_result"
    }
   ],
   "source": [
    "nltk.download('wordnet')"
   ]
  },
  {
   "cell_type": "code",
   "execution_count": 31,
   "metadata": {
    "scrolled": true
   },
   "outputs": [
    {
     "name": "stdout",
     "output_type": "stream",
     "text": [
      "increase\n"
     ]
    }
   ],
   "source": [
    "lemmatizer = WordNetLemmatizer()\n",
    " \n",
    "print(lemmatizer.lemmatize('increases'))"
   ]
  },
  {
   "cell_type": "markdown",
   "metadata": {},
   "source": [
    "- Sometimes, if you try to lemmatize a word like the word playing, it will end up with the same word.\n",
    "- This is because the default part of speech is nouns. To get verbs, you should specify it like this:"
   ]
  },
  {
   "cell_type": "code",
   "execution_count": 32,
   "metadata": {},
   "outputs": [
    {
     "name": "stdout",
     "output_type": "stream",
     "text": [
      "playing\n",
      "play\n"
     ]
    }
   ],
   "source": [
    "print(lemmatizer.lemmatize('playing'))\n",
    "print(lemmatizer.lemmatize('playing', pos=\"v\"))"
   ]
  },
  {
   "cell_type": "markdown",
   "metadata": {},
   "source": [
    "- This is a very good level of text compression, you end up with about 50% to 60% compression.\n",
    "- The result could be a verb, noun, adjective, or adverb"
   ]
  },
  {
   "cell_type": "code",
   "execution_count": 33,
   "metadata": {},
   "outputs": [
    {
     "name": "stdout",
     "output_type": "stream",
     "text": [
      "play\n",
      "playing\n",
      "playing\n",
      "playing\n"
     ]
    }
   ],
   "source": [
    "print(lemmatizer.lemmatize('playing', pos=\"v\"))\n",
    " \n",
    "print(lemmatizer.lemmatize('playing', pos=\"n\"))\n",
    " \n",
    "print(lemmatizer.lemmatize('playing', pos=\"a\"))\n",
    " \n",
    "print(lemmatizer.lemmatize('playing', pos=\"r\"))"
   ]
  },
  {
   "cell_type": "code",
   "execution_count": 34,
   "metadata": {},
   "outputs": [],
   "source": [
    "positive_features['review_lemmatized'] = positive_features.review_tokenized.apply(lambda x: [lemmatizer.lemmatize(word) for word in x])\n",
    "negative_features['review_lemmatized'] = negative_features.review_tokenized.apply(lambda x: [lemmatizer.lemmatize(word) for word in x])"
   ]
  },
  {
   "cell_type": "code",
   "execution_count": 35,
   "metadata": {},
   "outputs": [
    {
     "data": {
      "text/plain": [
       "0    [films, adapted, comic, books, plenty, success...\n",
       "1    [every, movie, comes, along, suspect, studio, ...\n",
       "2    [got, mail, works, alot, better, deserves, ord...\n",
       "3    [jaws, rare, film, grabs, attention, shows, si...\n",
       "4    [moviemaking, lot, like, general, manager, nfl...\n",
       "Name: review_tokenized, dtype: object"
      ]
     },
     "execution_count": 35,
     "metadata": {},
     "output_type": "execute_result"
    }
   ],
   "source": [
    "positive_features.review_tokenized.head()"
   ]
  },
  {
   "cell_type": "code",
   "execution_count": 36,
   "metadata": {},
   "outputs": [
    {
     "data": {
      "text/plain": [
       "0    [film, adapted, comic, book, plenty, success, ...\n",
       "1    [every, movie, come, along, suspect, studio, e...\n",
       "2    [got, mail, work, alot, better, deserves, orde...\n",
       "3    [jaw, rare, film, grab, attention, show, singl...\n",
       "4    [moviemaking, lot, like, general, manager, nfl...\n",
       "Name: review_lemmatized, dtype: object"
      ]
     },
     "execution_count": 36,
     "metadata": {},
     "output_type": "execute_result"
    }
   ],
   "source": [
    "positive_features.review_lemmatized.head()"
   ]
  },
  {
   "cell_type": "markdown",
   "metadata": {},
   "source": [
    "### Stemming and Lemmatization Difference"
   ]
  },
  {
   "cell_type": "code",
   "execution_count": 37,
   "metadata": {},
   "outputs": [
    {
     "name": "stdout",
     "output_type": "stream",
     "text": [
      "stone\n",
      "speak\n",
      "bedroom\n",
      "joke\n",
      "lisa\n",
      "purpl\n",
      "----------------------\n",
      "stone\n",
      "speak\n",
      "bedroom\n",
      "joke\n",
      "lisa\n",
      "purple\n"
     ]
    }
   ],
   "source": [
    "print(stemmer.stem('stones'))\n",
    " \n",
    "print(stemmer.stem('speaking'))\n",
    " \n",
    "print(stemmer.stem('bedroom'))\n",
    " \n",
    "print(stemmer.stem('jokes'))\n",
    " \n",
    "print(stemmer.stem('lisa'))\n",
    " \n",
    "print(stemmer.stem('purple'))\n",
    " \n",
    "print('----------------------')\n",
    " \n",
    "print(lemmatizer.lemmatize('stones'))\n",
    " \n",
    "print(lemmatizer.lemmatize('speaking', pos = 'v'))\n",
    " \n",
    "print(lemmatizer.lemmatize('bedroom'))\n",
    " \n",
    "print(lemmatizer.lemmatize('jokes'))\n",
    " \n",
    "print(lemmatizer.lemmatize('lisa'))\n",
    " \n",
    "print(lemmatizer.lemmatize('purple'))"
   ]
  },
  {
   "cell_type": "markdown",
   "metadata": {},
   "source": [
    "- Stemming works on words without knowing its context and that’s why stemming has lower accuracy and faster than lemmatization.\n",
    "- Word lemmatizing returns a real word even if it’s not the same word, it could be a synonym, but at least it’s a real word.\n",
    "- When accuracy is not as important as speed, stemming might be better."
   ]
  },
  {
   "cell_type": "markdown",
   "metadata": {},
   "source": [
    "### Plotting Frequencies of Words"
   ]
  },
  {
   "cell_type": "markdown",
   "metadata": {},
   "source": [
    "__Extract all words in a list:__"
   ]
  },
  {
   "cell_type": "code",
   "execution_count": 38,
   "metadata": {},
   "outputs": [],
   "source": [
    "positive_review_list = positive_features['review_lemmatized'].tolist()\n",
    "negative_review_list = negative_features['review_lemmatized'].tolist()"
   ]
  },
  {
   "cell_type": "code",
   "execution_count": 39,
   "metadata": {},
   "outputs": [],
   "source": [
    "positive_review_list = [item for sublist in positive_review_list for item in sublist]\n",
    "negative_review_list = [item for sublist in negative_review_list for item in sublist]"
   ]
  },
  {
   "cell_type": "markdown",
   "metadata": {},
   "source": [
    "Number of words:"
   ]
  },
  {
   "cell_type": "code",
   "execution_count": 40,
   "metadata": {},
   "outputs": [
    {
     "data": {
      "text/plain": [
       "383999"
      ]
     },
     "execution_count": 40,
     "metadata": {},
     "output_type": "execute_result"
    }
   ],
   "source": [
    "len(positive_review_list)"
   ]
  },
  {
   "cell_type": "code",
   "execution_count": 41,
   "metadata": {},
   "outputs": [
    {
     "data": {
      "text/plain": [
       "342813"
      ]
     },
     "execution_count": 41,
     "metadata": {},
     "output_type": "execute_result"
    }
   ],
   "source": [
    "len(negative_review_list)"
   ]
  },
  {
   "cell_type": "code",
   "execution_count": 42,
   "metadata": {},
   "outputs": [],
   "source": [
    "all_words = (positive_review_list + negative_review_list)"
   ]
  },
  {
   "cell_type": "code",
   "execution_count": 43,
   "metadata": {},
   "outputs": [
    {
     "data": {
      "text/plain": [
       "726812"
      ]
     },
     "execution_count": 43,
     "metadata": {},
     "output_type": "execute_result"
    }
   ],
   "source": [
    "len(all_words)"
   ]
  },
  {
   "cell_type": "code",
   "execution_count": 44,
   "metadata": {},
   "outputs": [],
   "source": [
    "word_counter = Counter(all_words)"
   ]
  },
  {
   "cell_type": "code",
   "execution_count": 45,
   "metadata": {},
   "outputs": [],
   "source": [
    "most_common_words = word_counter.most_common()[:10]"
   ]
  },
  {
   "cell_type": "code",
   "execution_count": 46,
   "metadata": {},
   "outputs": [],
   "source": [
    "most_common_words = pd.DataFrame(most_common_words)"
   ]
  },
  {
   "cell_type": "code",
   "execution_count": 47,
   "metadata": {},
   "outputs": [],
   "source": [
    "most_common_words.columns = ['word', 'freq']"
   ]
  },
  {
   "cell_type": "code",
   "execution_count": 48,
   "metadata": {
    "scrolled": true
   },
   "outputs": [
    {
     "data": {
      "text/html": [
       "<div>\n",
       "<style scoped>\n",
       "    .dataframe tbody tr th:only-of-type {\n",
       "        vertical-align: middle;\n",
       "    }\n",
       "\n",
       "    .dataframe tbody tr th {\n",
       "        vertical-align: top;\n",
       "    }\n",
       "\n",
       "    .dataframe thead th {\n",
       "        text-align: right;\n",
       "    }\n",
       "</style>\n",
       "<table border=\"1\" class=\"dataframe\">\n",
       "  <thead>\n",
       "    <tr style=\"text-align: right;\">\n",
       "      <th></th>\n",
       "      <th>word</th>\n",
       "      <th>freq</th>\n",
       "    </tr>\n",
       "  </thead>\n",
       "  <tbody>\n",
       "    <tr>\n",
       "      <th>0</th>\n",
       "      <td>'s</td>\n",
       "      <td>14031</td>\n",
       "    </tr>\n",
       "    <tr>\n",
       "      <th>1</th>\n",
       "      <td>film</td>\n",
       "      <td>10963</td>\n",
       "    </tr>\n",
       "    <tr>\n",
       "      <th>2</th>\n",
       "      <td>movie</td>\n",
       "      <td>6861</td>\n",
       "    </tr>\n",
       "    <tr>\n",
       "      <th>3</th>\n",
       "      <td>one</td>\n",
       "      <td>5756</td>\n",
       "    </tr>\n",
       "    <tr>\n",
       "      <th>4</th>\n",
       "      <td>character</td>\n",
       "      <td>3854</td>\n",
       "    </tr>\n",
       "    <tr>\n",
       "      <th>5</th>\n",
       "      <td>like</td>\n",
       "      <td>3643</td>\n",
       "    </tr>\n",
       "    <tr>\n",
       "      <th>6</th>\n",
       "      <td>time</td>\n",
       "      <td>2847</td>\n",
       "    </tr>\n",
       "    <tr>\n",
       "      <th>7</th>\n",
       "      <td>get</td>\n",
       "      <td>2787</td>\n",
       "    </tr>\n",
       "    <tr>\n",
       "      <th>8</th>\n",
       "      <td>scene</td>\n",
       "      <td>2642</td>\n",
       "    </tr>\n",
       "    <tr>\n",
       "      <th>9</th>\n",
       "      <td>make</td>\n",
       "      <td>2585</td>\n",
       "    </tr>\n",
       "  </tbody>\n",
       "</table>\n",
       "</div>"
      ],
      "text/plain": [
       "        word   freq\n",
       "0         's  14031\n",
       "1       film  10963\n",
       "2      movie   6861\n",
       "3        one   5756\n",
       "4  character   3854\n",
       "5       like   3643\n",
       "6       time   2847\n",
       "7        get   2787\n",
       "8      scene   2642\n",
       "9       make   2585"
      ]
     },
     "execution_count": 48,
     "metadata": {},
     "output_type": "execute_result"
    }
   ],
   "source": [
    "most_common_words"
   ]
  },
  {
   "cell_type": "code",
   "execution_count": 49,
   "metadata": {},
   "outputs": [
    {
     "data": {
      "text/plain": [
       "<matplotlib.axes._subplots.AxesSubplot at 0x21f1c99cef0>"
      ]
     },
     "execution_count": 49,
     "metadata": {},
     "output_type": "execute_result"
    },
    {
     "data": {
      "image/png": "[encoded data removed]",
      "text/plain": [
       "<matplotlib.figure.Figure at 0x21f1c99c780>"
      ]
     },
     "metadata": {},
     "output_type": "display_data"
    }
   ],
   "source": [
    "most_common_words.sort_values(by='freq',ascending=True).plot(x='word', kind='barh')"
   ]
  },
  {
   "cell_type": "markdown",
   "metadata": {},
   "source": [
    "- We can sort the word counts and plot their values on Logarithmic axes to check the shape of the distribution. \n",
    "- This visualization is particularly useful if comparing 2 or more datasets\n",
    "- A flatter distribution indicates a large vocabulary while a peaked distribution a restricted vocabulary often due to a focused topic or specialized language."
   ]
  },
  {
   "cell_type": "code",
   "execution_count": 50,
   "metadata": {},
   "outputs": [
    {
     "data": {
      "image/png": "[encoded data removed]",
      "text/plain": [
       "<matplotlib.figure.Figure at 0x21f1c9bcdd8>"
      ]
     },
     "metadata": {},
     "output_type": "display_data"
    }
   ],
   "source": [
    "sorted_word_counts = sorted(list(word_counter.values()), reverse=True)\n",
    "\n",
    "plt.loglog(sorted_word_counts)\n",
    "plt.ylabel(\"Freq\")\n",
    "plt.xlabel(\"Word Rank\");"
   ]
  },
  {
   "cell_type": "markdown",
   "metadata": {},
   "source": [
    "- Another related plot is the histogram of sorted_word_counts, which displays how many words have a count in a specific range.\n",
    "- The distribution is highly peaked at low counts, i.e. most of the words appear which a low count, so we better display it on semilogarithmic axes to inspect the tail of the distribution."
   ]
  },
  {
   "cell_type": "code",
   "execution_count": 51,
   "metadata": {},
   "outputs": [
    {
     "data": {
      "image/png": "[encoded data removed]",
      "text/plain": [
       "<matplotlib.figure.Figure at 0x21f1ca0af60>"
      ]
     },
     "metadata": {},
     "output_type": "display_data"
    }
   ],
   "source": [
    "plt.hist(sorted_word_counts, bins=50);"
   ]
  },
  {
   "cell_type": "code",
   "execution_count": 52,
   "metadata": {},
   "outputs": [
    {
     "data": {
      "image/png": "[encoded data removed]",
      "text/plain": [
       "<matplotlib.figure.Figure at 0x21f1ca05a90>"
      ]
     },
     "metadata": {},
     "output_type": "display_data"
    }
   ],
   "source": [
    "plt.hist(sorted_word_counts, bins=50, log=True);"
   ]
  },
  {
   "cell_type": "code",
   "execution_count": 53,
   "metadata": {},
   "outputs": [
    {
     "data": {
      "image/png": "[encoded data removed]",
      "text/plain": [
       "<matplotlib.figure.Figure at 0x21f20559898>"
      ]
     },
     "metadata": {},
     "output_type": "display_data"
    }
   ],
   "source": [
    "sns.distplot(positive_features['review_lemmatized'].apply(lambda y: len(y)), label='positive reviews',hist=False)\n",
    "sns.distplot(negative_features['review_lemmatized'].apply(lambda y: len(y)), label='negative reviews',hist=False)\n",
    "plt.legend()\n",
    "plt.show()"
   ]
  },
  {
   "cell_type": "markdown",
   "metadata": {},
   "source": [
    "### Removing frequent unimportant words"
   ]
  },
  {
   "cell_type": "code",
   "execution_count": 54,
   "metadata": {},
   "outputs": [
    {
     "data": {
      "text/plain": [
       "[\"'s\", 'film', 'movie']"
      ]
     },
     "execution_count": 54,
     "metadata": {},
     "output_type": "execute_result"
    }
   ],
   "source": [
    "most_common_words.word.tolist()[:3]"
   ]
  },
  {
   "cell_type": "code",
   "execution_count": 55,
   "metadata": {},
   "outputs": [
    {
     "data": {
      "text/plain": [
       "[\"'s\", 'film', 'movie']"
      ]
     },
     "execution_count": 55,
     "metadata": {},
     "output_type": "execute_result"
    }
   ],
   "source": [
    "remove = most_common_words.word.tolist()[:3]\n",
    "remove"
   ]
  },
  {
   "cell_type": "code",
   "execution_count": 56,
   "metadata": {
    "scrolled": true
   },
   "outputs": [],
   "source": [
    "negative_features['review_lemmatized'] = negative_features['review_lemmatized'].apply(lambda x: [y for y in x if y not in remove])\n",
    "positive_features['review_lemmatized'] = positive_features['review_lemmatized'].apply(lambda x: [y for y in x if y not in remove])"
   ]
  },
  {
   "cell_type": "markdown",
   "metadata": {},
   "source": [
    "## Advanced processing and Modelling:"
   ]
  },
  {
   "cell_type": "markdown",
   "metadata": {},
   "source": [
    "### Build a bag-of-words Naive Bayes model\n",
    "- The simplest model for analyzing text is just to think about text as an unordered collection of words (bag-of-words). This can generally allow to infer from the text the category, the topic or the sentiment.\n",
    "- From the bag-of-words model we can build features to be used by a classifier, here we assume that each word is a feature that can either be True or False. We implement this in Python as a dictionary where for each word in a sentence we associate True, if a word is missing, that would be the same as assigning False.\n",
    "- Bag of Words (BoW) refers to the representation of text which describes the presence of words within the text data. \n",
    "- The intuition behind this is that two similar text fields will contain similar kind of words, and will therefore have a similar bag of words. Further, that from the text alone we can learn something about the meaning of the document."
   ]
  },
  {
   "cell_type": "markdown",
   "metadata": {},
   "source": [
    "__Converting word lists back to string reviews:__\n",
    "- Creating training data i.e. review - label combinations\n",
    "- CountVectorizer tokenizes strings internally"
   ]
  },
  {
   "cell_type": "code",
   "execution_count": 57,
   "metadata": {},
   "outputs": [],
   "source": [
    "positive_features['review_lemmatized_train'] = positive_features.review_lemmatized.apply(lambda x: ' '.join(x))\n",
    "negative_features['review_lemmatized_train'] = negative_features.review_lemmatized.apply(lambda x: ' '.join(x))"
   ]
  },
  {
   "cell_type": "markdown",
   "metadata": {},
   "source": [
    "__Defining Target and Feature variables:__"
   ]
  },
  {
   "cell_type": "code",
   "execution_count": 58,
   "metadata": {},
   "outputs": [],
   "source": [
    "x = (positive_features['review_lemmatized_train'].append(negative_features['review_lemmatized_train']))\n",
    "y = (positive_features['label'].append(negative_features['label']))"
   ]
  },
  {
   "cell_type": "markdown",
   "metadata": {},
   "source": [
    "__Label Encoding Target Variable:__"
   ]
  },
  {
   "cell_type": "code",
   "execution_count": 59,
   "metadata": {},
   "outputs": [
    {
     "data": {
      "text/plain": [
       "['neg', 'pos']"
      ]
     },
     "execution_count": 59,
     "metadata": {},
     "output_type": "execute_result"
    }
   ],
   "source": [
    "le = preprocessing.LabelEncoder()\n",
    "le.fit(y)\n",
    "\n",
    "list(le.classes_)"
   ]
  },
  {
   "cell_type": "code",
   "execution_count": 60,
   "metadata": {},
   "outputs": [],
   "source": [
    "y = le.transform(y) "
   ]
  },
  {
   "cell_type": "code",
   "execution_count": 61,
   "metadata": {},
   "outputs": [
    {
     "name": "stdout",
     "output_type": "stream",
     "text": [
      "Labels for '['neg' 'pos']' are '[0 1]' respectively.\n"
     ]
    }
   ],
   "source": [
    "print('Labels for \\'{}\\' are \\'{}\\' respectively.'.format(le.inverse_transform(np.unique(y)),np.unique(y)))"
   ]
  },
  {
   "cell_type": "markdown",
   "metadata": {},
   "source": [
    "__Bag of Words Vectorizer:__"
   ]
  },
  {
   "cell_type": "code",
   "execution_count": 62,
   "metadata": {
    "scrolled": true
   },
   "outputs": [
    {
     "data": {
      "text/plain": [
       "<2000x25000 sparse matrix of type '<class 'numpy.int64'>'\n",
       "\twith 514916 stored elements in Compressed Sparse Row format>"
      ]
     },
     "execution_count": 62,
     "metadata": {},
     "output_type": "execute_result"
    }
   ],
   "source": [
    "bow = CountVectorizer(max_features=25000, lowercase=True,analyzer = \"word\")\n",
    "train_bow_neg = bow.fit_transform(x)\n",
    "train_bow_neg"
   ]
  },
  {
   "cell_type": "code",
   "execution_count": 63,
   "metadata": {},
   "outputs": [
    {
     "data": {
      "text/plain": [
       "(2000, 25000)"
      ]
     },
     "execution_count": 63,
     "metadata": {},
     "output_type": "execute_result"
    }
   ],
   "source": [
    "train_bow_neg.toarray().shape"
   ]
  },
  {
   "cell_type": "code",
   "execution_count": 64,
   "metadata": {
    "scrolled": true
   },
   "outputs": [
    {
     "data": {
      "text/plain": [
       "array([[0, 0, 0, ..., 0, 0, 0],\n",
       "       [0, 0, 0, ..., 0, 0, 0],\n",
       "       [0, 1, 0, ..., 0, 0, 0],\n",
       "       [0, 0, 0, ..., 0, 0, 0]], dtype=int64)"
      ]
     },
     "execution_count": 64,
     "metadata": {},
     "output_type": "execute_result"
    }
   ],
   "source": [
    "train_bow_neg.toarray()[1:5]"
   ]
  },
  {
   "cell_type": "code",
   "execution_count": 65,
   "metadata": {},
   "outputs": [],
   "source": [
    "vocab = bow.get_feature_names()"
   ]
  },
  {
   "cell_type": "code",
   "execution_count": 66,
   "metadata": {},
   "outputs": [],
   "source": [
    "# Sum up the counts of each vocabulary word\n",
    "dist = np.sum(train_bow_neg.toarray(), axis=0)\n",
    "\n",
    "word_freq = pd.DataFrame({'word':vocab,'freq':dist})"
   ]
  },
  {
   "cell_type": "code",
   "execution_count": 67,
   "metadata": {
    "scrolled": false
   },
   "outputs": [
    {
     "data": {
      "text/html": [
       "<div>\n",
       "<style scoped>\n",
       "    .dataframe tbody tr th:only-of-type {\n",
       "        vertical-align: middle;\n",
       "    }\n",
       "\n",
       "    .dataframe tbody tr th {\n",
       "        vertical-align: top;\n",
       "    }\n",
       "\n",
       "    .dataframe thead th {\n",
       "        text-align: right;\n",
       "    }\n",
       "</style>\n",
       "<table border=\"1\" class=\"dataframe\">\n",
       "  <thead>\n",
       "    <tr style=\"text-align: right;\">\n",
       "      <th></th>\n",
       "      <th>freq</th>\n",
       "      <th>word</th>\n",
       "    </tr>\n",
       "  </thead>\n",
       "  <tbody>\n",
       "    <tr>\n",
       "      <th>15475</th>\n",
       "      <td>6028</td>\n",
       "      <td>one</td>\n",
       "    </tr>\n",
       "    <tr>\n",
       "      <th>3534</th>\n",
       "      <td>3878</td>\n",
       "      <td>character</td>\n",
       "    </tr>\n",
       "    <tr>\n",
       "      <th>13113</th>\n",
       "      <td>3788</td>\n",
       "      <td>like</td>\n",
       "    </tr>\n",
       "    <tr>\n",
       "      <th>22698</th>\n",
       "      <td>2976</td>\n",
       "      <td>time</td>\n",
       "    </tr>\n",
       "    <tr>\n",
       "      <th>9660</th>\n",
       "      <td>2811</td>\n",
       "      <td>get</td>\n",
       "    </tr>\n",
       "    <tr>\n",
       "      <th>18974</th>\n",
       "      <td>2662</td>\n",
       "      <td>scene</td>\n",
       "    </tr>\n",
       "    <tr>\n",
       "      <th>13612</th>\n",
       "      <td>2634</td>\n",
       "      <td>make</td>\n",
       "    </tr>\n",
       "    <tr>\n",
       "      <th>8213</th>\n",
       "      <td>2568</td>\n",
       "      <td>even</td>\n",
       "    </tr>\n",
       "    <tr>\n",
       "      <th>9875</th>\n",
       "      <td>2429</td>\n",
       "      <td>good</td>\n",
       "    </tr>\n",
       "    <tr>\n",
       "      <th>21153</th>\n",
       "      <td>2344</td>\n",
       "      <td>story</td>\n",
       "    </tr>\n",
       "  </tbody>\n",
       "</table>\n",
       "</div>"
      ],
      "text/plain": [
       "       freq       word\n",
       "15475  6028        one\n",
       "3534   3878  character\n",
       "13113  3788       like\n",
       "22698  2976       time\n",
       "9660   2811        get\n",
       "18974  2662      scene\n",
       "13612  2634       make\n",
       "8213   2568       even\n",
       "9875   2429       good\n",
       "21153  2344      story"
      ]
     },
     "execution_count": 67,
     "metadata": {},
     "output_type": "execute_result"
    }
   ],
   "source": [
    "word_freq.sort_values(by='freq',ascending=False)[:10]"
   ]
  },
  {
   "cell_type": "markdown",
   "metadata": {},
   "source": [
    "__Splitting into Train and test datasets:__"
   ]
  },
  {
   "cell_type": "code",
   "execution_count": 68,
   "metadata": {},
   "outputs": [],
   "source": [
    "xtrain, xtest, ytrain, ytest = train_test_split \\\n",
    "                (train_bow_neg.toarray(), y,test_size=0.3, \\\n",
    "                random_state=1000)\n"
   ]
  },
  {
   "cell_type": "code",
   "execution_count": 69,
   "metadata": {},
   "outputs": [
    {
     "name": "stdout",
     "output_type": "stream",
     "text": [
      "No. of True Cases in training data set for 708\n",
      "No. of True Cases in testing data set for 292\n",
      "Ratio of True Cases in training data set:  0.51\n",
      "Ratio of True Cases in testing data set:  0.49\n"
     ]
    }
   ],
   "source": [
    "print (\"No. of True Cases in training data set for\" , ytrain.sum())\n",
    "print (\"No. of True Cases in testing data set for\",ytest.sum())\n",
    "\n",
    "print (\"Ratio of True Cases in training data set: \" , round(ytrain.sum()/len(ytrain),2))\n",
    "print (\"Ratio of True Cases in testing data set: \", round(ytest.sum()/len(ytest),2))"
   ]
  },
  {
   "cell_type": "code",
   "execution_count": 70,
   "metadata": {},
   "outputs": [
    {
     "data": {
      "text/plain": [
       "(1400, 25000)"
      ]
     },
     "execution_count": 70,
     "metadata": {},
     "output_type": "execute_result"
    }
   ],
   "source": [
    "xtrain.shape"
   ]
  },
  {
   "cell_type": "code",
   "execution_count": 71,
   "metadata": {},
   "outputs": [
    {
     "data": {
      "text/plain": [
       "<2000x25000 sparse matrix of type '<class 'numpy.int64'>'\n",
       "\twith 514916 stored elements in Compressed Sparse Row format>"
      ]
     },
     "execution_count": 71,
     "metadata": {},
     "output_type": "execute_result"
    }
   ],
   "source": [
    "train_bow_neg"
   ]
  },
  {
   "cell_type": "code",
   "execution_count": 72,
   "metadata": {},
   "outputs": [
    {
     "name": "stdout",
     "output_type": "stream",
     "text": [
      "Training the Naive Bayes Classifier\n"
     ]
    }
   ],
   "source": [
    "print( \"Training the Naive Bayes Classifier\")\n",
    "\n",
    "# Initialize a Random Forest classifier with 100 trees\n",
    "NB = MultinomialNB() \n",
    "\n",
    "# This may take a few minutes to run\n",
    "NB_clf = NB.fit( xtrain, ytrain )"
   ]
  },
  {
   "cell_type": "code",
   "execution_count": 73,
   "metadata": {},
   "outputs": [],
   "source": [
    "prob_test  = NB.predict_proba(xtest)\n",
    "prob_train = NB.predict_proba(xtrain)\n",
    "\n",
    "#Probability Threshold = 0.5 (default) \n",
    "pred_test  = NB.predict(xtest)\n",
    "pred_train = NB.predict(xtrain)"
   ]
  },
  {
   "cell_type": "code",
   "execution_count": 74,
   "metadata": {},
   "outputs": [
    {
     "name": "stdout",
     "output_type": "stream",
     "text": [
      "Model ROC-AUC score for training sample: 0.997\n",
      "Model ROC-AUC score for test sample: 0.869\n"
     ]
    }
   ],
   "source": [
    "auc_score = roc_auc_score(ytrain, prob_train[:,1])\n",
    "print (\"Model ROC-AUC score for training sample: %.3f\" \\\n",
    "                                      % auc_score)\n",
    "auc_score = roc_auc_score(ytest, prob_test[:,1])\n",
    "print (\"Model ROC-AUC score for test sample: %.3f\" \\\n",
    "                                      % auc_score)"
   ]
  },
  {
   "cell_type": "code",
   "execution_count": 75,
   "metadata": {},
   "outputs": [
    {
     "name": "stdout",
     "output_type": "stream",
     "text": [
      "Train Accuracy ::  0.9778571428571429\n",
      "Test Accuracy ::  0.7983333333333333\n"
     ]
    }
   ],
   "source": [
    "#Calculate train and test accuracy\n",
    "train_acc = accuracy_score(ytrain, pred_train)\n",
    "test_acc  = accuracy_score(ytest, pred_test)\n",
    "print (\"Train Accuracy :: \", train_acc)\n",
    "print (\"Test Accuracy :: \", test_acc)"
   ]
  },
  {
   "cell_type": "code",
   "execution_count": 76,
   "metadata": {},
   "outputs": [
    {
     "name": "stdout",
     "output_type": "stream",
     "text": [
      "\n",
      " Confusion matrix: \n",
      "\n"
     ]
    },
    {
     "data": {
      "image/png": "[encoded data removed]",
      "text/plain": [
       "<matplotlib.figure.Figure at 0x21f20ae89e8>"
      ]
     },
     "metadata": {},
     "output_type": "display_data"
    }
   ],
   "source": [
    "print (\"\\n Confusion matrix: \\n\")\n",
    "skplt.metrics.plot_confusion_matrix(ytest, pred_test, title=\"Confusion Matrix\",\n",
    "                text_fontsize='large')\n",
    "plt.show()\n",
    "# Colors https://matplotlib.org/examples/color/colormaps_reference.html"
   ]
  },
  {
   "cell_type": "code",
   "execution_count": 77,
   "metadata": {},
   "outputs": [
    {
     "name": "stdout",
     "output_type": "stream",
     "text": [
      "\n",
      " Classification report (weighted average across classes) ::\n",
      "              precision    recall  f1-score   support\n",
      "\n",
      "          0       0.81      0.80      0.80       308\n",
      "          1       0.79      0.80      0.79       292\n",
      "\n",
      "avg / total       0.80      0.80      0.80       600\n",
      "\n"
     ]
    }
   ],
   "source": [
    "#Calculate classification model evaluation metrics like precision, recall, f1 score\n",
    "report = classification_report(ytest, pred_test)\n",
    "precision,recall,fscore,support = precision_recall_fscore_support(ytest,pred_test,average='weighted')\n",
    "print(\"\\n Classification report (weighted average across classes) ::\\n\", classification_report(ytest, pred_test))"
   ]
  },
  {
   "cell_type": "code",
   "execution_count": 78,
   "metadata": {},
   "outputs": [
    {
     "data": {
      "text/plain": [
       "array([[ 4., 46.,  3., ...,  0.,  1.,  0.],\n",
       "       [ 2., 41.,  5., ..., 10.,  1.,  0.]])"
      ]
     },
     "execution_count": 78,
     "metadata": {},
     "output_type": "execute_result"
    }
   ],
   "source": [
    "NB_clf.feature_count_"
   ]
  },
  {
   "cell_type": "markdown",
   "metadata": {},
   "source": [
    "### n-grams"
   ]
  },
  {
   "cell_type": "code",
   "execution_count": 79,
   "metadata": {},
   "outputs": [],
   "source": [
    "bow = CountVectorizer(max_features=25000, lowercase=True,analyzer = \"word\",ngram_range=(1, 2))\n",
    "train_bow_neg = bow.fit_transform(x)"
   ]
  },
  {
   "cell_type": "code",
   "execution_count": 80,
   "metadata": {},
   "outputs": [
    {
     "data": {
      "text/plain": [
       "['000 year', '10 000', '10 10', '10 minute']"
      ]
     },
     "execution_count": 80,
     "metadata": {},
     "output_type": "execute_result"
    }
   ],
   "source": [
    "[x for x in bow.get_feature_names() if len(x.split())>1][1:5]"
   ]
  },
  {
   "cell_type": "markdown",
   "metadata": {},
   "source": [
    "### Term Frequency and Inverse Document Frequency\n",
    "- Term Frequency measures how frequently a term occurs in a document.\n",
    "- Since every document is different in length, it is possible that a term would appear much more times in long documents than shorter ones. Thus, the term frequency is often divided by the document length (aka. the total number of terms in the document) as a way of normalization: \n",
    "\n",
    "        TF(t) = (Number of times term t appears in a document) / (Total number of terms in the document).\n",
    "\n",
    "- Inverse Document Frequency measures how important a term is. While computing TF, all terms are considered equally important. \n",
    "- However it is known that certain terms, such as \"is\", \"of\", and \"that\", may appear a lot of times but have little importance. Thus we need to weigh down the frequent terms while scale up the rare ones, by computing the following: \n",
    "\n",
    "        IDF(t) = log_e(Total number of documents / Number of documents with term t in it)."
   ]
  },
  {
   "cell_type": "markdown",
   "metadata": {},
   "source": [
    "### Term Frequency-Inverse Document Frequency (TF-IDF) - Random Forest\n",
    "- TF-IDF transform can be defined as the product of the term frequency and the inverse document frequency\n",
    "- TfidfTransformer() takes the raw term frequencies from CountVectorizer as input and transforms them into tf-idfs:"
   ]
  },
  {
   "cell_type": "code",
   "execution_count": 81,
   "metadata": {},
   "outputs": [
    {
     "data": {
      "text/plain": [
       "array([[0, 0, 0, ..., 0, 0, 0],\n",
       "       [0, 0, 0, ..., 0, 0, 0],\n",
       "       [0, 0, 0, ..., 0, 0, 0],\n",
       "       ...,\n",
       "       [0, 0, 0, ..., 0, 0, 0],\n",
       "       [0, 0, 0, ..., 0, 0, 0],\n",
       "       [0, 0, 0, ..., 0, 0, 0]], dtype=int64)"
      ]
     },
     "execution_count": 81,
     "metadata": {},
     "output_type": "execute_result"
    }
   ],
   "source": [
    "xtrain"
   ]
  },
  {
   "cell_type": "code",
   "execution_count": 82,
   "metadata": {},
   "outputs": [],
   "source": [
    "tf = TfidfVectorizer(smooth_idf=False, sublinear_tf=False, norm=None, analyzer='word')\n",
    "txt_fitted = tf.fit(x)\n",
    "txt_transformed = txt_fitted.transform(x)"
   ]
  },
  {
   "cell_type": "code",
   "execution_count": 83,
   "metadata": {},
   "outputs": [
    {
     "data": {
      "text/plain": [
       "(2000, 35581)"
      ]
     },
     "execution_count": 83,
     "metadata": {},
     "output_type": "execute_result"
    }
   ],
   "source": [
    "txt_transformed.shape"
   ]
  },
  {
   "cell_type": "code",
   "execution_count": 84,
   "metadata": {},
   "outputs": [
    {
     "data": {
      "text/plain": [
       "array([[0.        , 0.        , 0.        , ..., 0.        , 0.        ,\n",
       "        0.        ],\n",
       "       [0.        , 0.        , 0.        , ..., 0.        , 0.        ,\n",
       "        0.        ],\n",
       "       [0.        , 4.07911388, 0.        , ..., 0.        , 0.        ,\n",
       "        0.        ],\n",
       "       [0.        , 0.        , 0.        , ..., 0.        , 0.        ,\n",
       "        0.        ]])"
      ]
     },
     "execution_count": 84,
     "metadata": {},
     "output_type": "execute_result"
    }
   ],
   "source": [
    "txt_transformed.toarray()[1:5]"
   ]
  },
  {
   "cell_type": "code",
   "execution_count": 85,
   "metadata": {},
   "outputs": [
    {
     "name": "stdout",
     "output_type": "stream",
     "text": [
      "Features with lowest idf:\n",
      "['one' 'like' 'character' 'time' 'get' 'make' 'even' 'good' 'scene' 'much']\n",
      "\n",
      "Features with highest idf:\n",
      "['pyjama' 'pyle' 'forefather' 'pyre' 'pyroclastic' 'foredoomed'\n",
      " 'pyrotechnical' 'pysche' 'foregrounds' 'zzzzzzz']\n"
     ]
    }
   ],
   "source": [
    "# get feature names\n",
    "feature_names = np.array(tf.get_feature_names())\n",
    "sorted_by_idf = np.argsort(tf.idf_)\n",
    "print(\"Features with lowest idf:\\n{}\".format(\n",
    "       feature_names[sorted_by_idf[:10]]))\n",
    "print(\"\\nFeatures with highest idf:\\n{}\".format(\n",
    "       feature_names[sorted_by_idf[-10:]]))"
   ]
  },
  {
   "cell_type": "code",
   "execution_count": 86,
   "metadata": {},
   "outputs": [],
   "source": [
    "xtrain, xtest, ytrain, ytest = train_test_split \\\n",
    "                (txt_transformed.toarray(), y,test_size=0.3, \\\n",
    "                random_state=1000)\n"
   ]
  },
  {
   "cell_type": "code",
   "execution_count": 87,
   "metadata": {},
   "outputs": [
    {
     "name": "stdout",
     "output_type": "stream",
     "text": [
      "No. of True Cases in training data set for 708\n",
      "No. of True Cases in testing data set for 292\n",
      "Ratio of True Cases in training data set:  0.51\n",
      "Ratio of True Cases in testing data set:  0.49\n"
     ]
    }
   ],
   "source": [
    "print (\"No. of True Cases in training data set for\" , ytrain.sum())\n",
    "print (\"No. of True Cases in testing data set for\",ytest.sum())\n",
    "\n",
    "print (\"Ratio of True Cases in training data set: \" , round(ytrain.sum()/len(ytrain),2))\n",
    "print (\"Ratio of True Cases in testing data set: \", round(ytest.sum()/len(ytest),2))"
   ]
  },
  {
   "cell_type": "code",
   "execution_count": 88,
   "metadata": {
    "scrolled": true
   },
   "outputs": [
    {
     "name": "stdout",
     "output_type": "stream",
     "text": [
      "Training the random forest...\n"
     ]
    },
    {
     "name": "stderr",
     "output_type": "stream",
     "text": [
      "[Parallel(n_jobs=1)]: Done 1000 out of 1000 | elapsed:   59.4s finished\n"
     ]
    }
   ],
   "source": [
    "print( \"Training the random forest...\")\n",
    "from sklearn.ensemble import RandomForestClassifier\n",
    "\n",
    "# Initialize a Random Forest classifier with 100 trees\n",
    "forest = RandomForestClassifier(n_estimators = 1000,verbose=True) \n",
    "\n",
    "# Fit the forest to the training set, using the bag of words as \n",
    "# features and the sentiment labels as the response variable\n",
    "#\n",
    "# This may take a few minutes to run\n",
    "forest = forest.fit( xtrain, ytrain )"
   ]
  },
  {
   "cell_type": "code",
   "execution_count": 89,
   "metadata": {},
   "outputs": [
    {
     "name": "stderr",
     "output_type": "stream",
     "text": [
      "[Parallel(n_jobs=1)]: Done 1000 out of 1000 | elapsed:    0.2s finished\n",
      "[Parallel(n_jobs=1)]: Done 1000 out of 1000 | elapsed:    0.6s finished\n",
      "[Parallel(n_jobs=1)]: Done 1000 out of 1000 | elapsed:    0.2s finished\n",
      "[Parallel(n_jobs=1)]: Done 1000 out of 1000 | elapsed:    0.6s finished\n"
     ]
    }
   ],
   "source": [
    "prob_test  = forest.predict_proba(xtest)\n",
    "prob_train = forest.predict_proba(xtrain)\n",
    "\n",
    "#Probability Threshold = 0.5 (default) \n",
    "pred_test  = forest.predict(xtest)\n",
    "pred_train = forest.predict(xtrain)"
   ]
  },
  {
   "cell_type": "code",
   "execution_count": 90,
   "metadata": {},
   "outputs": [
    {
     "name": "stdout",
     "output_type": "stream",
     "text": [
      "Model ROC-AUC score for training sample: 1.000\n",
      "Model ROC-AUC score for test sample: 0.929\n"
     ]
    }
   ],
   "source": [
    "auc_score = roc_auc_score(ytrain, prob_train[:,1])\n",
    "print (\"Model ROC-AUC score for training sample: %.3f\" \\\n",
    "                                      % auc_score)\n",
    "auc_score = roc_auc_score(ytest, prob_test[:,1])\n",
    "print (\"Model ROC-AUC score for test sample: %.3f\" \\\n",
    "                                      % auc_score)"
   ]
  },
  {
   "cell_type": "code",
   "execution_count": 91,
   "metadata": {},
   "outputs": [
    {
     "name": "stdout",
     "output_type": "stream",
     "text": [
      "Train Accuracy ::  1.0\n",
      "Test Accuracy ::  0.8433333333333334\n"
     ]
    }
   ],
   "source": [
    "#Calculate train and test accuracy\n",
    "train_acc = accuracy_score(ytrain, pred_train)\n",
    "test_acc  = accuracy_score(ytest, pred_test)\n",
    "print (\"Train Accuracy :: \", train_acc)\n",
    "print (\"Test Accuracy :: \", test_acc)"
   ]
  },
  {
   "cell_type": "code",
   "execution_count": 92,
   "metadata": {},
   "outputs": [
    {
     "name": "stdout",
     "output_type": "stream",
     "text": [
      "Top 15 - RF Feature Importance\n"
     ]
    },
    {
     "data": {
      "text/html": [
       "<style  type=\"text/css\" >\n",
       "    #T_9ae95cdc_e96d_11e8_a40c_c85b76e35b9erow0_col1 {\n",
       "            background-color:  #48a848;\n",
       "        }    #T_9ae95cdc_e96d_11e8_a40c_c85b76e35b9erow1_col1 {\n",
       "            background-color:  #74c074;\n",
       "        }    #T_9ae95cdc_e96d_11e8_a40c_c85b76e35b9erow2_col1 {\n",
       "            background-color:  #9cd69c;\n",
       "        }    #T_9ae95cdc_e96d_11e8_a40c_c85b76e35b9erow3_col1 {\n",
       "            background-color:  #a5dba5;\n",
       "        }    #T_9ae95cdc_e96d_11e8_a40c_c85b76e35b9erow4_col1 {\n",
       "            background-color:  #a8dda8;\n",
       "        }    #T_9ae95cdc_e96d_11e8_a40c_c85b76e35b9erow5_col1 {\n",
       "            background-color:  #acdfac;\n",
       "        }    #T_9ae95cdc_e96d_11e8_a40c_c85b76e35b9erow6_col1 {\n",
       "            background-color:  #b0e2b0;\n",
       "        }    #T_9ae95cdc_e96d_11e8_a40c_c85b76e35b9erow7_col1 {\n",
       "            background-color:  #b0e2b0;\n",
       "        }    #T_9ae95cdc_e96d_11e8_a40c_c85b76e35b9erow8_col1 {\n",
       "            background-color:  #b1e2b1;\n",
       "        }    #T_9ae95cdc_e96d_11e8_a40c_c85b76e35b9erow9_col1 {\n",
       "            background-color:  #b3e3b3;\n",
       "        }    #T_9ae95cdc_e96d_11e8_a40c_c85b76e35b9erow10_col1 {\n",
       "            background-color:  #b5e4b5;\n",
       "        }    #T_9ae95cdc_e96d_11e8_a40c_c85b76e35b9erow11_col1 {\n",
       "            background-color:  #b6e5b6;\n",
       "        }    #T_9ae95cdc_e96d_11e8_a40c_c85b76e35b9erow12_col1 {\n",
       "            background-color:  #b8e6b8;\n",
       "        }    #T_9ae95cdc_e96d_11e8_a40c_c85b76e35b9erow13_col1 {\n",
       "            background-color:  #b8e6b8;\n",
       "        }    #T_9ae95cdc_e96d_11e8_a40c_c85b76e35b9erow14_col1 {\n",
       "            background-color:  #bce8bc;\n",
       "        }    #T_9ae95cdc_e96d_11e8_a40c_c85b76e35b9erow15_col1 {\n",
       "            background-color:  #bde9bd;\n",
       "        }    #T_9ae95cdc_e96d_11e8_a40c_c85b76e35b9erow16_col1 {\n",
       "            background-color:  #bde9bd;\n",
       "        }    #T_9ae95cdc_e96d_11e8_a40c_c85b76e35b9erow17_col1 {\n",
       "            background-color:  #bfeabf;\n",
       "        }    #T_9ae95cdc_e96d_11e8_a40c_c85b76e35b9erow18_col1 {\n",
       "            background-color:  #bfeabf;\n",
       "        }    #T_9ae95cdc_e96d_11e8_a40c_c85b76e35b9erow19_col1 {\n",
       "            background-color:  #c2ebc2;\n",
       "        }</style>  \n",
       "<table id=\"T_9ae95cdc_e96d_11e8_a40c_c85b76e35b9e\" > \n",
       "<thead>    <tr> \n",
       "        <th class=\"blank level0\" ></th> \n",
       "        <th class=\"col_heading level0 col0\" >Feature</th> \n",
       "        <th class=\"col_heading level0 col1\" >Var Imp</th> \n",
       "    </tr></thead> \n",
       "<tbody>    <tr> \n",
       "        <th id=\"T_9ae95cdc_e96d_11e8_a40c_c85b76e35b9elevel0_row0\" class=\"row_heading level0 row0\" >0</th> \n",
       "        <td id=\"T_9ae95cdc_e96d_11e8_a40c_c85b76e35b9erow0_col0\" class=\"data row0 col0\" >bad</td> \n",
       "        <td id=\"T_9ae95cdc_e96d_11e8_a40c_c85b76e35b9erow0_col1\" class=\"data row0 col1\" >0.00624532</td> \n",
       "    </tr>    <tr> \n",
       "        <th id=\"T_9ae95cdc_e96d_11e8_a40c_c85b76e35b9elevel0_row1\" class=\"row_heading level0 row1\" >1</th> \n",
       "        <td id=\"T_9ae95cdc_e96d_11e8_a40c_c85b76e35b9erow1_col0\" class=\"data row1 col0\" >worst</td> \n",
       "        <td id=\"T_9ae95cdc_e96d_11e8_a40c_c85b76e35b9erow1_col1\" class=\"data row1 col1\" >0.00465883</td> \n",
       "    </tr>    <tr> \n",
       "        <th id=\"T_9ae95cdc_e96d_11e8_a40c_c85b76e35b9elevel0_row2\" class=\"row_heading level0 row2\" >2</th> \n",
       "        <td id=\"T_9ae95cdc_e96d_11e8_a40c_c85b76e35b9erow2_col0\" class=\"data row2 col0\" >boring</td> \n",
       "        <td id=\"T_9ae95cdc_e96d_11e8_a40c_c85b76e35b9erow2_col1\" class=\"data row2 col1\" >0.00323596</td> \n",
       "    </tr>    <tr> \n",
       "        <th id=\"T_9ae95cdc_e96d_11e8_a40c_c85b76e35b9elevel0_row3\" class=\"row_heading level0 row3\" >3</th> \n",
       "        <td id=\"T_9ae95cdc_e96d_11e8_a40c_c85b76e35b9erow3_col0\" class=\"data row3 col0\" >plot</td> \n",
       "        <td id=\"T_9ae95cdc_e96d_11e8_a40c_c85b76e35b9erow3_col1\" class=\"data row3 col1\" >0.00289283</td> \n",
       "    </tr>    <tr> \n",
       "        <th id=\"T_9ae95cdc_e96d_11e8_a40c_c85b76e35b9elevel0_row4\" class=\"row_heading level0 row4\" >4</th> \n",
       "        <td id=\"T_9ae95cdc_e96d_11e8_a40c_c85b76e35b9erow4_col0\" class=\"data row4 col0\" >waste</td> \n",
       "        <td id=\"T_9ae95cdc_e96d_11e8_a40c_c85b76e35b9erow4_col1\" class=\"data row4 col1\" >0.00276042</td> \n",
       "    </tr>    <tr> \n",
       "        <th id=\"T_9ae95cdc_e96d_11e8_a40c_c85b76e35b9elevel0_row5\" class=\"row_heading level0 row5\" >5</th> \n",
       "        <td id=\"T_9ae95cdc_e96d_11e8_a40c_c85b76e35b9erow5_col0\" class=\"data row5 col0\" >stupid</td> \n",
       "        <td id=\"T_9ae95cdc_e96d_11e8_a40c_c85b76e35b9erow5_col1\" class=\"data row5 col1\" >0.00262723</td> \n",
       "    </tr>    <tr> \n",
       "        <th id=\"T_9ae95cdc_e96d_11e8_a40c_c85b76e35b9elevel0_row6\" class=\"row_heading level0 row6\" >6</th> \n",
       "        <td id=\"T_9ae95cdc_e96d_11e8_a40c_c85b76e35b9erow6_col0\" class=\"data row6 col0\" >wasted</td> \n",
       "        <td id=\"T_9ae95cdc_e96d_11e8_a40c_c85b76e35b9erow6_col1\" class=\"data row6 col1\" >0.00246536</td> \n",
       "    </tr>    <tr> \n",
       "        <th id=\"T_9ae95cdc_e96d_11e8_a40c_c85b76e35b9elevel0_row7\" class=\"row_heading level0 row7\" >7</th> \n",
       "        <td id=\"T_9ae95cdc_e96d_11e8_a40c_c85b76e35b9erow7_col0\" class=\"data row7 col0\" >mess</td> \n",
       "        <td id=\"T_9ae95cdc_e96d_11e8_a40c_c85b76e35b9erow7_col1\" class=\"data row7 col1\" >0.00246525</td> \n",
       "    </tr>    <tr> \n",
       "        <th id=\"T_9ae95cdc_e96d_11e8_a40c_c85b76e35b9elevel0_row8\" class=\"row_heading level0 row8\" >8</th> \n",
       "        <td id=\"T_9ae95cdc_e96d_11e8_a40c_c85b76e35b9erow8_col0\" class=\"data row8 col0\" >excellent</td> \n",
       "        <td id=\"T_9ae95cdc_e96d_11e8_a40c_c85b76e35b9erow8_col1\" class=\"data row8 col1\" >0.00242782</td> \n",
       "    </tr>    <tr> \n",
       "        <th id=\"T_9ae95cdc_e96d_11e8_a40c_c85b76e35b9elevel0_row9\" class=\"row_heading level0 row9\" >9</th> \n",
       "        <td id=\"T_9ae95cdc_e96d_11e8_a40c_c85b76e35b9erow9_col0\" class=\"data row9 col0\" >performance</td> \n",
       "        <td id=\"T_9ae95cdc_e96d_11e8_a40c_c85b76e35b9erow9_col1\" class=\"data row9 col1\" >0.00237366</td> \n",
       "    </tr>    <tr> \n",
       "        <th id=\"T_9ae95cdc_e96d_11e8_a40c_c85b76e35b9elevel0_row10\" class=\"row_heading level0 row10\" >10</th> \n",
       "        <td id=\"T_9ae95cdc_e96d_11e8_a40c_c85b76e35b9erow10_col0\" class=\"data row10 col0\" >awful</td> \n",
       "        <td id=\"T_9ae95cdc_e96d_11e8_a40c_c85b76e35b9erow10_col1\" class=\"data row10 col1\" >0.0023066</td> \n",
       "    </tr>    <tr> \n",
       "        <th id=\"T_9ae95cdc_e96d_11e8_a40c_c85b76e35b9elevel0_row11\" class=\"row_heading level0 row11\" >11</th> \n",
       "        <td id=\"T_9ae95cdc_e96d_11e8_a40c_c85b76e35b9erow11_col0\" class=\"data row11 col0\" >life</td> \n",
       "        <td id=\"T_9ae95cdc_e96d_11e8_a40c_c85b76e35b9erow11_col1\" class=\"data row11 col1\" >0.00229023</td> \n",
       "    </tr>    <tr> \n",
       "        <th id=\"T_9ae95cdc_e96d_11e8_a40c_c85b76e35b9elevel0_row12\" class=\"row_heading level0 row12\" >12</th> \n",
       "        <td id=\"T_9ae95cdc_e96d_11e8_a40c_c85b76e35b9erow12_col0\" class=\"data row12 col0\" >well</td> \n",
       "        <td id=\"T_9ae95cdc_e96d_11e8_a40c_c85b76e35b9erow12_col1\" class=\"data row12 col1\" >0.00222012</td> \n",
       "    </tr>    <tr> \n",
       "        <th id=\"T_9ae95cdc_e96d_11e8_a40c_c85b76e35b9elevel0_row13\" class=\"row_heading level0 row13\" >13</th> \n",
       "        <td id=\"T_9ae95cdc_e96d_11e8_a40c_c85b76e35b9erow13_col0\" class=\"data row13 col0\" >also</td> \n",
       "        <td id=\"T_9ae95cdc_e96d_11e8_a40c_c85b76e35b9erow13_col1\" class=\"data row13 col1\" >0.00216562</td> \n",
       "    </tr>    <tr> \n",
       "        <th id=\"T_9ae95cdc_e96d_11e8_a40c_c85b76e35b9elevel0_row14\" class=\"row_heading level0 row14\" >14</th> \n",
       "        <td id=\"T_9ae95cdc_e96d_11e8_a40c_c85b76e35b9erow14_col0\" class=\"data row14 col0\" >script</td> \n",
       "        <td id=\"T_9ae95cdc_e96d_11e8_a40c_c85b76e35b9erow14_col1\" class=\"data row14 col1\" >0.00206101</td> \n",
       "    </tr>    <tr> \n",
       "        <th id=\"T_9ae95cdc_e96d_11e8_a40c_c85b76e35b9elevel0_row15\" class=\"row_heading level0 row15\" >15</th> \n",
       "        <td id=\"T_9ae95cdc_e96d_11e8_a40c_c85b76e35b9erow15_col0\" class=\"data row15 col0\" >supposed</td> \n",
       "        <td id=\"T_9ae95cdc_e96d_11e8_a40c_c85b76e35b9erow15_col1\" class=\"data row15 col1\" >0.00202798</td> \n",
       "    </tr>    <tr> \n",
       "        <th id=\"T_9ae95cdc_e96d_11e8_a40c_c85b76e35b9elevel0_row16\" class=\"row_heading level0 row16\" >16</th> \n",
       "        <td id=\"T_9ae95cdc_e96d_11e8_a40c_c85b76e35b9erow16_col0\" class=\"data row16 col0\" >nothing</td> \n",
       "        <td id=\"T_9ae95cdc_e96d_11e8_a40c_c85b76e35b9erow16_col1\" class=\"data row16 col1\" >0.00200694</td> \n",
       "    </tr>    <tr> \n",
       "        <th id=\"T_9ae95cdc_e96d_11e8_a40c_c85b76e35b9elevel0_row17\" class=\"row_heading level0 row17\" >17</th> \n",
       "        <td id=\"T_9ae95cdc_e96d_11e8_a40c_c85b76e35b9erow17_col0\" class=\"data row17 col0\" >best</td> \n",
       "        <td id=\"T_9ae95cdc_e96d_11e8_a40c_c85b76e35b9erow17_col1\" class=\"data row17 col1\" >0.00195402</td> \n",
       "    </tr>    <tr> \n",
       "        <th id=\"T_9ae95cdc_e96d_11e8_a40c_c85b76e35b9elevel0_row18\" class=\"row_heading level0 row18\" >18</th> \n",
       "        <td id=\"T_9ae95cdc_e96d_11e8_a40c_c85b76e35b9erow18_col0\" class=\"data row18 col0\" >lame</td> \n",
       "        <td id=\"T_9ae95cdc_e96d_11e8_a40c_c85b76e35b9erow18_col1\" class=\"data row18 col1\" >0.00193965</td> \n",
       "    </tr>    <tr> \n",
       "        <th id=\"T_9ae95cdc_e96d_11e8_a40c_c85b76e35b9elevel0_row19\" class=\"row_heading level0 row19\" >19</th> \n",
       "        <td id=\"T_9ae95cdc_e96d_11e8_a40c_c85b76e35b9erow19_col0\" class=\"data row19 col0\" >unfortunately</td> \n",
       "        <td id=\"T_9ae95cdc_e96d_11e8_a40c_c85b76e35b9erow19_col1\" class=\"data row19 col1\" >0.00185215</td> \n",
       "    </tr></tbody> \n",
       "</table> "
      ],
      "text/plain": [
       "<pandas.io.formats.style.Styler at 0x21f3ad50e10>"
      ]
     },
     "execution_count": 92,
     "metadata": {},
     "output_type": "execute_result"
    }
   ],
   "source": [
    "#Define colormap\n",
    "cm = sns.light_palette(\"green\", as_cmap=True)\n",
    "var_imp_rf = pd.DataFrame({'Feature':txt_fitted.get_feature_names(),'Var Imp':forest.feature_importances_}).sort_values(by='Var Imp',ascending = False).reset_index(drop=True)\n",
    "print(\"Top 15 - RF Feature Importance\")\n",
    "var_imp_rf.head(20).style.background_gradient(cmap = cm, high = 0.6, low = 0.3, axis = 0)"
   ]
  },
  {
   "cell_type": "markdown",
   "metadata": {},
   "source": [
    "### NLTK VADER Sentiment Intensity Analyzer:\n",
    "- Valence Aware Dictionary and sEntiment Reasoner\n",
    "- It is a lexicon and rule-based sentiment analysis tool specifically created for working with messy social media texts.\n",
    "- VADER belongs to a type of sentiment analysis that is based on lexicons of sentiment-related words. \n",
    "- In this approach, each of the words in the lexicon is rated as to whether it is positive or negative, and in many cases, how positive or negative."
   ]
  },
  {
   "cell_type": "code",
   "execution_count": 93,
   "metadata": {},
   "outputs": [
    {
     "name": "stdout",
     "output_type": "stream",
     "text": [
      "[nltk_data] Downloading package vader_lexicon to C:\\Users\\save\n",
      "[nltk_data]     advait\\AppData\\Roaming\\nltk_data...\n",
      "[nltk_data]   Package vader_lexicon is already up-to-date!\n"
     ]
    },
    {
     "data": {
      "text/plain": [
       "True"
      ]
     },
     "execution_count": 93,
     "metadata": {},
     "output_type": "execute_result"
    }
   ],
   "source": [
    "nltk.download('vader_lexicon')"
   ]
  },
  {
   "cell_type": "code",
   "execution_count": 94,
   "metadata": {},
   "outputs": [],
   "source": [
    "vader = SentimentIntensityAnalyzer()"
   ]
  },
  {
   "cell_type": "code",
   "execution_count": 95,
   "metadata": {},
   "outputs": [
    {
     "data": {
      "text/plain": [
       "'got mail work alot better deserves order make success cast two extremely popular attractive star share screen two hour collect profit real acting involved original inventive bone body basically complete re-shoot shop around corner adding modern twist essentially go defies concept good contemporary filmmaking overly sentimental time terribly mushy mention manipulative oh enjoyable manipulation must something casting manipulation make work well absolutely hated previous ryan/hanks teaming sleepless seattle directing helmed woman quite yet figured liked much got mail really important like something much even question storyline cliched come tom hank play joe fox insanely likeable owner discount book chain meg ryan play kathleen kelley even insanely likeable proprietor family-run child book shop called nice homage shop around corner fox kelley soon become bitter rival new fox book store opening right across block small business little know already love internet neither party know person true identity rest story important serve mere backdrop two star share screen sure mildly interesting subplots fail comparison utter cuteness main relationship course lead predictable climax foreseeable ending damn cute well-done doubt entire year contains scene evokes much pure joy part ryan discovers true identity online love filled lack better word happiness first time year actually left theater smiling'"
      ]
     },
     "execution_count": 95,
     "metadata": {},
     "output_type": "execute_result"
    }
   ],
   "source": [
    "x.tolist()[2]"
   ]
  },
  {
   "cell_type": "code",
   "execution_count": 96,
   "metadata": {},
   "outputs": [
    {
     "data": {
      "text/plain": [
       "{'compound': 0.9956, 'neg': 0.111, 'neu': 0.557, 'pos': 0.333}"
      ]
     },
     "execution_count": 96,
     "metadata": {},
     "output_type": "execute_result"
    }
   ],
   "source": [
    "ss = vader.polarity_scores(x.tolist()[2])\n",
    "ss"
   ]
  },
  {
   "cell_type": "code",
   "execution_count": 97,
   "metadata": {},
   "outputs": [
    {
     "name": "stdout",
     "output_type": "stream",
     "text": [
      "1 1\n"
     ]
    }
   ],
   "source": [
    "def vader_polarity(text):\n",
    "    \"\"\" Transform the output to a binary 0/1 result \"\"\"\n",
    "    score = vader.polarity_scores(text)\n",
    "    return 1 if score['pos'] > score['neg'] else 0\n",
    " \n",
    "print (vader_polarity(x.tolist()[2]), y[2]) # 0 1"
   ]
  },
  {
   "cell_type": "markdown",
   "metadata": {},
   "source": [
    "Predict and score on movie reviews dataset using VADER:"
   ]
  },
  {
   "cell_type": "code",
   "execution_count": 98,
   "metadata": {},
   "outputs": [],
   "source": [
    "pred_y = [vader_polarity(text) for text in x.tolist()]"
   ]
  },
  {
   "cell_type": "code",
   "execution_count": 99,
   "metadata": {},
   "outputs": [
    {
     "name": "stdout",
     "output_type": "stream",
     "text": [
      "0.5975\n"
     ]
    }
   ],
   "source": [
    "print (accuracy_score(y, pred_y))"
   ]
  },
  {
   "cell_type": "code",
   "execution_count": 100,
   "metadata": {},
   "outputs": [],
   "source": [
    "sentences = [\"VADER is smart, handsome, and funny.\", # positive sentence example\n",
    "    \"VADER is smart, handsome, and funny!\", # punctuation emphasis handled correctly (sentiment intensity adjusted)\n",
    "    \"VADER is very smart, handsome, and funny.\",  # booster words handled correctly (sentiment intensity adjusted)\n",
    "    \"VADER is VERY SMART, handsome, and FUNNY.\",  # emphasis for ALLCAPS handled\n",
    "    \"VADER is VERY SMART, handsome, and FUNNY!!!\",# combination of signals - VADER appropriately adjusts intensity\n",
    "    \"VADER is VERY SMART, really handsome, and INCREDIBLY FUNNY!!!\",# booster words & punctuation make this close to ceiling for score\n",
    "    \"The book was good.\",         # positive sentence\n",
    "    \"The book was kind of good.\", # qualified positive sentence is handled correctly (intensity adjusted)\n",
    "    \"The plot was good, but the characters are uncompelling and the dialog is not great.\", # mixed negation sentence\n",
    "    \"A really bad, horrible book.\",       # negative sentence with booster words\n",
    "    \"At least it isn't a horrible book.\", # negated negative sentence with contraction\n",
    "    \":) and :D\",     # emoticons handled\n",
    "    \"\",              # an empty string is correctly handled\n",
    "    \"Today sux\",     #  negative slang handled\n",
    "    \"Today sux!\",    #  negative slang with punctuation emphasis handled\n",
    "    \"Today SUX!\",    #  negative slang with capitalization emphasis\n",
    "    \"Today kinda sux! But I'll get by, lol\" # mixed sentiment example with slang and constrastive conjunction \"but\"\n",
    " ]\n",
    "\n",
    "#Reference: http://www.nltk.org/howto/sentiment.html"
   ]
  },
  {
   "cell_type": "code",
   "execution_count": 101,
   "metadata": {},
   "outputs": [
    {
     "name": "stdout",
     "output_type": "stream",
     "text": [
      "VADER is smart, handsome, and funny.\n",
      "compound: 0.8316, neg: 0.0, neu: 0.254, pos: 0.746, \n",
      "VADER is smart, handsome, and funny!\n",
      "compound: 0.8439, neg: 0.0, neu: 0.248, pos: 0.752, \n",
      "VADER is very smart, handsome, and funny.\n",
      "compound: 0.8545, neg: 0.0, neu: 0.299, pos: 0.701, \n",
      "VADER is VERY SMART, handsome, and FUNNY.\n",
      "compound: 0.9227, neg: 0.0, neu: 0.246, pos: 0.754, \n",
      "VADER is VERY SMART, handsome, and FUNNY!!!\n",
      "compound: 0.9342, neg: 0.0, neu: 0.233, pos: 0.767, \n",
      "VADER is VERY SMART, really handsome, and INCREDIBLY FUNNY!!!\n",
      "compound: 0.9469, neg: 0.0, neu: 0.294, pos: 0.706, \n",
      "The book was good.\n",
      "compound: 0.4404, neg: 0.0, neu: 0.508, pos: 0.492, \n",
      "The book was kind of good.\n",
      "compound: 0.3832, neg: 0.0, neu: 0.657, pos: 0.343, \n",
      "The plot was good, but the characters are uncompelling and the dialog is not great.\n",
      "compound: -0.7042, neg: 0.327, neu: 0.579, pos: 0.094, \n",
      "A really bad, horrible book.\n",
      "compound: -0.8211, neg: 0.791, neu: 0.209, pos: 0.0, \n",
      "At least it isn't a horrible book.\n",
      "compound: 0.431, neg: 0.0, neu: 0.637, pos: 0.363, \n",
      ":) and :D\n",
      "compound: 0.7925, neg: 0.0, neu: 0.124, pos: 0.876, \n",
      "\n",
      "compound: 0.0, neg: 0.0, neu: 0.0, pos: 0.0, \n",
      "Today sux\n",
      "compound: -0.3612, neg: 0.714, neu: 0.286, pos: 0.0, \n",
      "Today sux!\n",
      "compound: -0.4199, neg: 0.736, neu: 0.264, pos: 0.0, \n",
      "Today SUX!\n",
      "compound: -0.5461, neg: 0.779, neu: 0.221, pos: 0.0, \n",
      "Today kinda sux! But I'll get by, lol\n",
      "compound: 0.2228, neg: 0.195, neu: 0.531, pos: 0.274, \n"
     ]
    }
   ],
   "source": [
    "for sentence in sentences:\n",
    "    print(sentence)\n",
    "    ss = vader.polarity_scores(sentence)\n",
    "    for k in sorted(ss):\n",
    "        print('{0}: {1}, '.format(k, ss[k]), end='')\n",
    "    print()"
   ]
  },
  {
   "cell_type": "markdown",
   "metadata": {},
   "source": [
    "### Topic Modelling using Latent Dirichlet Allocation"
   ]
  },
  {
   "cell_type": "markdown",
   "metadata": {},
   "source": [
    "__Create the Dictionary and Corpus needed for Topic Modeling:__\n",
    "- Gensim creates a unique id for each word in the document. The produced corpus shown above is a mapping of (word_id, word_frequency).\n",
    "- For example, (0, 1) above implies, word id 0 occurs once in the first document. Likewise, word id 1 occurs twice and so on.\n",
    "- This is used as the input by the LDA model."
   ]
  },
  {
   "cell_type": "code",
   "execution_count": 102,
   "metadata": {
    "scrolled": true
   },
   "outputs": [
    {
     "data": {
      "text/plain": [
       "[[(\"'80s\", 1),\n",
       "  (\"'ll\", 1),\n",
       "  (\"'re\", 1),\n",
       "  ('00', 1),\n",
       "  ('102', 1),\n",
       "  ('12-part', 1),\n",
       "  ('1888', 1),\n",
       "  ('2', 2),\n",
       "  ('30', 1),\n",
       "  ('500', 1),\n",
       "  ('abberline', 2),\n",
       "  ('ably', 1),\n",
       "  ('absinthe', 1),\n",
       "  ('accent', 2),\n",
       "  ('act', 1),\n",
       "  ('acting', 1),\n",
       "  ('actually', 1),\n",
       "  ('adapted', 1),\n",
       "  ('alan', 1)]]"
      ]
     },
     "execution_count": 102,
     "metadata": {},
     "output_type": "execute_result"
    }
   ],
   "source": [
    "# Create Dictionary\n",
    "id2word = corpora.Dictionary(x.apply(lambda x: x.split()))\n",
    "\n",
    "# Create Corpus\n",
    "texts = x.apply(lambda x: x.split())\n",
    "\n",
    "# Term Document Frequency\n",
    "corpus = [id2word.doc2bow(text) for text in texts]\n",
    "\n",
    "# View\n",
    "#Readable format of corpus (term-frequency) (1st 20)\n",
    "[[(id2word[id], freq) for id, freq in cp] for cp in [corpus[:1][0][1:20]]]"
   ]
  },
  {
   "cell_type": "markdown",
   "metadata": {},
   "source": [
    "__Build the LDA Model:__\n",
    "- alpha and eta are hyperparameters that affect sparsity of the topics. According to the Gensim docs, both defaults to 1.0/num_topics prior.\n",
    "- chunksize is the number of documents to be used in each training chunk. update_every determines how often the model parameters should be updated and passes is the total number of training passes."
   ]
  },
  {
   "cell_type": "code",
   "execution_count": 103,
   "metadata": {},
   "outputs": [],
   "source": [
    "# Build LDA model\n",
    "lda_model = gensim.models.ldamodel.LdaModel(corpus=corpus,\n",
    "                                           id2word=id2word,\n",
    "                                           num_topics=5, \n",
    "                                           random_state=100,\n",
    "                                           update_every=1,\n",
    "                                           chunksize=100,\n",
    "                                           passes=10,\n",
    "                                           alpha='auto',\n",
    "                                           per_word_topics=True)"
   ]
  },
  {
   "cell_type": "markdown",
   "metadata": {},
   "source": [
    "__View and Interpreting the topics in LDA model:__\n",
    "\n",
    "- The weights reflect how important a keyword is to that topic"
   ]
  },
  {
   "cell_type": "code",
   "execution_count": 104,
   "metadata": {
    "scrolled": true
   },
   "outputs": [
    {
     "name": "stdout",
     "output_type": "stream",
     "text": [
      "[(0,\n",
      "  '0.008*\"life\" + 0.005*\"love\" + 0.004*\"family\" + 0.004*\"story\" + 0.003*\"--\" + '\n",
      "  '0.003*\"woman\" + 0.003*\"man\" + 0.003*\"wife\" + 0.003*\"relationship\" + '\n",
      "  '0.003*\"child\"'),\n",
      " (1,\n",
      "  '0.006*\"effect\" + 0.005*\"action\" + 0.004*\"one\" + 0.004*\"special\" + '\n",
      "  '0.004*\"alien\" + 0.003*\"series\" + 0.003*\"human\" + 0.003*\"war\" + '\n",
      "  '0.003*\"earth\" + 0.003*\"horror\"'),\n",
      " (2,\n",
      "  '0.012*\"--\" + 0.007*\"comedy\" + 0.005*\"funny\" + 0.005*\"scream\" + 0.005*\"joke\" '\n",
      "  '+ 0.004*\"gag\" + 0.004*\"school\" + 0.003*\"julie\" + 0.003*\"\\'\" + '\n",
      "  '0.003*\"laugh\"'),\n",
      " (3,\n",
      "  '0.011*\"one\" + 0.008*\"like\" + 0.008*\"character\" + 0.006*\"get\" + 0.006*\"time\" '\n",
      "  '+ 0.006*\"even\" + 0.005*\"scene\" + 0.005*\"make\" + 0.005*\"good\" + '\n",
      "  '0.004*\"would\"'),\n",
      " (4,\n",
      "  '0.005*\"star\" + 0.005*\"disney\" + 0.004*\"harry\" + 0.004*\"king\" + '\n",
      "  '0.004*\"murphy\" + 0.004*\"wild\" + 0.004*\"animated\" + 0.003*\"voice\" + '\n",
      "  '0.003*\"spice\" + 0.003*\"tarzan\"')]\n"
     ]
    }
   ],
   "source": [
    "# Print the Keyword in the 10 topics\n",
    "pprint(lda_model.print_topics())\n",
    "doc_lda = lda_model[corpus]"
   ]
  },
  {
   "cell_type": "markdown",
   "metadata": {},
   "source": [
    "### Word Embedding - word vectors\n",
    "__Word vectors can be very useful. They open a bunch of new opportunities. Here are some of them:__\n",
    "- Use them as the input of a neural network, usually boosting performance\n",
    "- It can be considered automatic feature extraction\n",
    "- Establish synonyms\n",
    "- Dimensionality reduction\n",
    "- Create Document Vectors: either by averaging the word vectors or by using the Doc2Vec "
   ]
  },
  {
   "cell_type": "code",
   "execution_count": 105,
   "metadata": {},
   "outputs": [
    {
     "data": {
      "text/plain": [
       "0    [adapted, comic, book, plenty, success, whethe...\n",
       "1    [every, come, along, suspect, studio, every, i...\n",
       "2    [got, mail, work, alot, better, deserves, orde...\n",
       "3    [jaw, rare, grab, attention, show, single, ima...\n",
       "4    [moviemaking, lot, like, general, manager, nfl...\n",
       "Name: review_lemmatized_train, dtype: object"
      ]
     },
     "execution_count": 105,
     "metadata": {},
     "output_type": "execute_result"
    }
   ],
   "source": [
    "texts.head()"
   ]
  },
  {
   "cell_type": "code",
   "execution_count": 106,
   "metadata": {},
   "outputs": [],
   "source": [
    "model = word2vec.Word2Vec(texts, min_count=1)"
   ]
  },
  {
   "cell_type": "code",
   "execution_count": 107,
   "metadata": {},
   "outputs": [],
   "source": [
    "#model.wv.vocab"
   ]
  },
  {
   "cell_type": "code",
   "execution_count": 108,
   "metadata": {
    "scrolled": true
   },
   "outputs": [
    {
     "data": {
      "text/plain": [
       "[('well-staged', 0.9603122472763062),\n",
       " ('sequence', 0.9590402841567993),\n",
       " ('jaw-dropping', 0.93113774061203),\n",
       " ('scene', 0.9283219575881958),\n",
       " ('opening', 0.9262897372245789),\n",
       " ('moment', 0.9253965020179749),\n",
       " ('poorly-staged', 0.9225828647613525),\n",
       " ('exciting', 0.9213052988052368),\n",
       " ('duguay', 0.9153657555580139),\n",
       " ('penultimate', 0.9120491743087769)]"
      ]
     },
     "execution_count": 108,
     "metadata": {},
     "output_type": "execute_result"
    }
   ],
   "source": [
    "model.most_similar('action')"
   ]
  },
  {
   "cell_type": "code",
   "execution_count": 109,
   "metadata": {
    "scrolled": true
   },
   "outputs": [
    {
     "data": {
      "text/plain": [
       "0.9287547073230076"
      ]
     },
     "execution_count": 109,
     "metadata": {},
     "output_type": "execute_result"
    }
   ],
   "source": [
    "model.similarity('speilberg', 'visuals')"
   ]
  },
  {
   "cell_type": "markdown",
   "metadata": {},
   "source": [
    "## Adding other text features:"
   ]
  },
  {
   "cell_type": "markdown",
   "metadata": {},
   "source": [
    "## Improving Text Classification Models\n",
    "While the above framework can be applied to a number of text classification problems, but to achieve a good accuracy some improvements can be done in the overall framework. For example, following are some tips to improve the performance of text classification models and this framework.\n",
    "\n",
    "1. Text Cleaning : text cleaning can help to reducue the noise present in text data in the form of stopwords, punctuations marks, suffix variations etc. This article can help to understand how to implement text classification in detail.\n",
    "\n",
    "2. Hstacking Text / NLP features with text feature vectors : In the feature engineering section, we generated a number of different feature vectros, combining them together can help to improve the accuracy of the classifier.\n",
    "\n",
    "3. Hyperparamter Tuning in modelling : Tuning the paramters is an important step, a number of parameters such as tree length, leafs, network paramters etc can be fine tuned to get a best fit model.\n",
    "\n",
    "4. Ensemble Models : Stacking different models and blending their outputs can help to further improve the results. Read more about ensemble models here\n",
    "\n",
    "5. [Guide to solve most NLP problems](https://blog.insightdatascience.com/how-to-solve-90-of-nlp-problems-a-step-by-step-guide-fda605278e4e)"
   ]
  },
  {
   "cell_type": "markdown",
   "metadata": {},
   "source": [
    "## Solve a problem!\n",
    "\n",
    "__Quora Insincere Questions classification: https://www.kaggle.com/c/quora-insincere-questions-classification__\n",
    "- Quora is a platform that empowers people to learn from each other. \n",
    "- On Quora, people can ask questions and connect with others who contribute unique insights and quality answers. \n",
    "- A key challenge is to weed out insincere questions -- those founded upon false premises, or that intend to make a statement rather than look for helpful answers."
   ]
  }
 ],
 "metadata": {
  "kernelspec": {
   "display_name": "Python 3",
   "language": "python",
   "name": "python3"
  },
  "language_info": {
   "codemirror_mode": {
    "name": "ipython",
    "version": 3
   },
   "file_extension": ".py",
   "mimetype": "text/x-python",
   "name": "python",
   "nbconvert_exporter": "python",
   "pygments_lexer": "ipython3",
   "version": "3.6.4"
  },
  "toc": {
   "base_numbering": 1,
   "nav_menu": {
    "height": "532px",
    "width": "198px"
   },
   "number_sections": true,
   "sideBar": false,
   "skip_h1_title": false,
   "title_cell": "Table of Contents",
   "title_sidebar": "Contents",
   "toc_cell": true,
   "toc_position": {},
   "toc_section_display": true,
   "toc_window_display": false
  }
 },
 "nbformat": 4,
 "nbformat_minor": 2
}
